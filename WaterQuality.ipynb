{
 "cells": [
  {
   "cell_type": "markdown",
   "metadata": {},
   "source": [
    "# Data Preprocessing"
   ]
  },
  {
   "cell_type": "markdown",
   "metadata": {},
   "source": [
    "## Importing Libraries"
   ]
  },
  {
   "cell_type": "code",
   "execution_count": 1,
   "metadata": {},
   "outputs": [],
   "source": [
    "import numpy as np\n",
    "import pandas as pd\n",
    "import matplotlib.pyplot as plt"
   ]
  },
  {
   "cell_type": "markdown",
   "metadata": {},
   "source": [
    "## Importing Dataset"
   ]
  },
  {
   "cell_type": "code",
   "execution_count": 2,
   "metadata": {},
   "outputs": [
    {
     "data": {
      "text/html": [
       "<div>\n",
       "<style scoped>\n",
       "    .dataframe tbody tr th:only-of-type {\n",
       "        vertical-align: middle;\n",
       "    }\n",
       "\n",
       "    .dataframe tbody tr th {\n",
       "        vertical-align: top;\n",
       "    }\n",
       "\n",
       "    .dataframe thead th {\n",
       "        text-align: right;\n",
       "    }\n",
       "</style>\n",
       "<table border=\"1\" class=\"dataframe\">\n",
       "  <thead>\n",
       "    <tr style=\"text-align: right;\">\n",
       "      <th></th>\n",
       "      <th>STATION CODE</th>\n",
       "      <th>LOCATIONS</th>\n",
       "      <th>STATE</th>\n",
       "      <th>Temp</th>\n",
       "      <th>D.O. (mg/l)</th>\n",
       "      <th>PH</th>\n",
       "      <th>CONDUCTIVITY (µmhos/cm)</th>\n",
       "      <th>B.O.D. (mg/l)</th>\n",
       "      <th>NITRATENAN N+ NITRITENANN (mg/l)</th>\n",
       "      <th>FECAL COLIFORM (MPN/100ml)</th>\n",
       "      <th>TOTAL COLIFORM (MPN/100ml)Mean</th>\n",
       "      <th>year</th>\n",
       "    </tr>\n",
       "  </thead>\n",
       "  <tbody>\n",
       "    <tr>\n",
       "      <th>0</th>\n",
       "      <td>1393</td>\n",
       "      <td>DAMANGANGA AT D/S OF MADHUBAN, DAMAN</td>\n",
       "      <td>DAMAN &amp; DIU</td>\n",
       "      <td>30.6</td>\n",
       "      <td>6.7</td>\n",
       "      <td>7.5</td>\n",
       "      <td>203</td>\n",
       "      <td>NAN</td>\n",
       "      <td>0.1</td>\n",
       "      <td>11</td>\n",
       "      <td>27</td>\n",
       "      <td>2014</td>\n",
       "    </tr>\n",
       "    <tr>\n",
       "      <th>1</th>\n",
       "      <td>1399</td>\n",
       "      <td>ZUARI AT D/S OF PT. WHERE KUMBARJRIA CANAL JOI...</td>\n",
       "      <td>GOA</td>\n",
       "      <td>29.8</td>\n",
       "      <td>5.7</td>\n",
       "      <td>7.2</td>\n",
       "      <td>189</td>\n",
       "      <td>2</td>\n",
       "      <td>0.2</td>\n",
       "      <td>4953</td>\n",
       "      <td>8391</td>\n",
       "      <td>2014</td>\n",
       "    </tr>\n",
       "    <tr>\n",
       "      <th>2</th>\n",
       "      <td>1475</td>\n",
       "      <td>ZUARI AT PANCHAWADI</td>\n",
       "      <td>GOA</td>\n",
       "      <td>29.5</td>\n",
       "      <td>6.3</td>\n",
       "      <td>6.9</td>\n",
       "      <td>179</td>\n",
       "      <td>1.7</td>\n",
       "      <td>0.1</td>\n",
       "      <td>3243</td>\n",
       "      <td>5330</td>\n",
       "      <td>2014</td>\n",
       "    </tr>\n",
       "    <tr>\n",
       "      <th>3</th>\n",
       "      <td>3181</td>\n",
       "      <td>RIVER ZUARI AT BORIM BRIDGE</td>\n",
       "      <td>GOA</td>\n",
       "      <td>29.7</td>\n",
       "      <td>5.8</td>\n",
       "      <td>6.9</td>\n",
       "      <td>64</td>\n",
       "      <td>3.8</td>\n",
       "      <td>0.5</td>\n",
       "      <td>5382</td>\n",
       "      <td>8443</td>\n",
       "      <td>2014</td>\n",
       "    </tr>\n",
       "    <tr>\n",
       "      <th>4</th>\n",
       "      <td>3182</td>\n",
       "      <td>RIVER ZUARI AT MARCAIM JETTY</td>\n",
       "      <td>GOA</td>\n",
       "      <td>29.5</td>\n",
       "      <td>5.8</td>\n",
       "      <td>7.3</td>\n",
       "      <td>83</td>\n",
       "      <td>1.9</td>\n",
       "      <td>0.4</td>\n",
       "      <td>3428</td>\n",
       "      <td>5500</td>\n",
       "      <td>2014</td>\n",
       "    </tr>\n",
       "    <tr>\n",
       "      <th>...</th>\n",
       "      <td>...</td>\n",
       "      <td>...</td>\n",
       "      <td>...</td>\n",
       "      <td>...</td>\n",
       "      <td>...</td>\n",
       "      <td>...</td>\n",
       "      <td>...</td>\n",
       "      <td>...</td>\n",
       "      <td>...</td>\n",
       "      <td>...</td>\n",
       "      <td>...</td>\n",
       "      <td>...</td>\n",
       "    </tr>\n",
       "    <tr>\n",
       "      <th>1986</th>\n",
       "      <td>1330</td>\n",
       "      <td>TAMBIRAPARANI AT ARUMUGANERI, TAMILNADU</td>\n",
       "      <td>TAMILNADU</td>\n",
       "      <td>NAN</td>\n",
       "      <td>7.9</td>\n",
       "      <td>738</td>\n",
       "      <td>7.2</td>\n",
       "      <td>2.7</td>\n",
       "      <td>0.518</td>\n",
       "      <td>0.518</td>\n",
       "      <td>202</td>\n",
       "      <td>2003</td>\n",
       "    </tr>\n",
       "    <tr>\n",
       "      <th>1987</th>\n",
       "      <td>1450</td>\n",
       "      <td>PALAR AT VANIYAMBADI WATER SUPPLY HEAD WORK, T...</td>\n",
       "      <td>TAMILNADU</td>\n",
       "      <td>29</td>\n",
       "      <td>7.5</td>\n",
       "      <td>585</td>\n",
       "      <td>6.3</td>\n",
       "      <td>2.6</td>\n",
       "      <td>0.155</td>\n",
       "      <td>0.155</td>\n",
       "      <td>315</td>\n",
       "      <td>2003</td>\n",
       "    </tr>\n",
       "    <tr>\n",
       "      <th>1988</th>\n",
       "      <td>1403</td>\n",
       "      <td>GUMTI AT U/S SOUTH TRIPURA,TRIPURA</td>\n",
       "      <td>TRIPUR</td>\n",
       "      <td>28</td>\n",
       "      <td>7.6</td>\n",
       "      <td>98</td>\n",
       "      <td>6.2</td>\n",
       "      <td>1.2</td>\n",
       "      <td>NAN</td>\n",
       "      <td>NAN</td>\n",
       "      <td>570</td>\n",
       "      <td>2003</td>\n",
       "    </tr>\n",
       "    <tr>\n",
       "      <th>1989</th>\n",
       "      <td>1404</td>\n",
       "      <td>GUMTI AT D/S SOUTH TRIPURA, TRIPURA</td>\n",
       "      <td>TRIPUR</td>\n",
       "      <td>28</td>\n",
       "      <td>7.7</td>\n",
       "      <td>91</td>\n",
       "      <td>6.5</td>\n",
       "      <td>1.3</td>\n",
       "      <td>NAN</td>\n",
       "      <td>NAN</td>\n",
       "      <td>562</td>\n",
       "      <td>2003</td>\n",
       "    </tr>\n",
       "    <tr>\n",
       "      <th>1990</th>\n",
       "      <td>1726</td>\n",
       "      <td>CHANDRAPUR, AGARTALA D/S OF HAORA RIVER, TRIPURA</td>\n",
       "      <td>TRIPUR</td>\n",
       "      <td>29</td>\n",
       "      <td>7.6</td>\n",
       "      <td>110</td>\n",
       "      <td>5.7</td>\n",
       "      <td>1.1</td>\n",
       "      <td>NAN</td>\n",
       "      <td>NAN</td>\n",
       "      <td>546</td>\n",
       "      <td>2003</td>\n",
       "    </tr>\n",
       "  </tbody>\n",
       "</table>\n",
       "<p>1991 rows × 12 columns</p>\n",
       "</div>"
      ],
      "text/plain": [
       "     STATION CODE                                          LOCATIONS  \\\n",
       "0            1393               DAMANGANGA AT D/S OF MADHUBAN, DAMAN   \n",
       "1            1399  ZUARI AT D/S OF PT. WHERE KUMBARJRIA CANAL JOI...   \n",
       "2            1475                                ZUARI AT PANCHAWADI   \n",
       "3            3181                        RIVER ZUARI AT BORIM BRIDGE   \n",
       "4            3182                       RIVER ZUARI AT MARCAIM JETTY   \n",
       "...           ...                                                ...   \n",
       "1986         1330            TAMBIRAPARANI AT ARUMUGANERI, TAMILNADU   \n",
       "1987         1450  PALAR AT VANIYAMBADI WATER SUPPLY HEAD WORK, T...   \n",
       "1988         1403                 GUMTI AT U/S SOUTH TRIPURA,TRIPURA   \n",
       "1989         1404                GUMTI AT D/S SOUTH TRIPURA, TRIPURA   \n",
       "1990         1726   CHANDRAPUR, AGARTALA D/S OF HAORA RIVER, TRIPURA   \n",
       "\n",
       "            STATE  Temp D.O. (mg/l)   PH CONDUCTIVITY (µmhos/cm)  \\\n",
       "0     DAMAN & DIU  30.6         6.7  7.5                     203   \n",
       "1             GOA  29.8         5.7  7.2                     189   \n",
       "2             GOA  29.5         6.3  6.9                     179   \n",
       "3             GOA  29.7         5.8  6.9                      64   \n",
       "4             GOA  29.5         5.8  7.3                      83   \n",
       "...           ...   ...         ...  ...                     ...   \n",
       "1986    TAMILNADU   NAN         7.9  738                     7.2   \n",
       "1987    TAMILNADU    29         7.5  585                     6.3   \n",
       "1988       TRIPUR    28         7.6   98                     6.2   \n",
       "1989       TRIPUR    28         7.7   91                     6.5   \n",
       "1990       TRIPUR    29         7.6  110                     5.7   \n",
       "\n",
       "     B.O.D. (mg/l) NITRATENAN N+ NITRITENANN (mg/l)  \\\n",
       "0              NAN                              0.1   \n",
       "1                2                              0.2   \n",
       "2              1.7                              0.1   \n",
       "3              3.8                              0.5   \n",
       "4              1.9                              0.4   \n",
       "...            ...                              ...   \n",
       "1986           2.7                            0.518   \n",
       "1987           2.6                            0.155   \n",
       "1988           1.2                              NAN   \n",
       "1989           1.3                              NAN   \n",
       "1990           1.1                              NAN   \n",
       "\n",
       "     FECAL COLIFORM (MPN/100ml) TOTAL COLIFORM (MPN/100ml)Mean  year  \n",
       "0                            11                             27  2014  \n",
       "1                          4953                           8391  2014  \n",
       "2                          3243                           5330  2014  \n",
       "3                          5382                           8443  2014  \n",
       "4                          3428                           5500  2014  \n",
       "...                         ...                            ...   ...  \n",
       "1986                      0.518                            202  2003  \n",
       "1987                      0.155                            315  2003  \n",
       "1988                        NAN                            570  2003  \n",
       "1989                        NAN                            562  2003  \n",
       "1990                        NAN                            546  2003  \n",
       "\n",
       "[1991 rows x 12 columns]"
      ]
     },
     "execution_count": 2,
     "metadata": {},
     "output_type": "execute_result"
    }
   ],
   "source": [
    "dataset =pd.read_csv('water_data.csv',encoding='unicode_escape')\n",
    "dataset"
   ]
  },
  {
   "cell_type": "markdown",
   "metadata": {},
   "source": [
    "## Data Visualization and Missing Values"
   ]
  },
  {
   "cell_type": "code",
   "execution_count": 3,
   "metadata": {},
   "outputs": [
    {
     "name": "stdout",
     "output_type": "stream",
     "text": [
      "<class 'pandas.core.frame.DataFrame'>\n",
      "RangeIndex: 1991 entries, 0 to 1990\n",
      "Data columns (total 12 columns):\n",
      " #   Column                            Non-Null Count  Dtype \n",
      "---  ------                            --------------  ----- \n",
      " 0   STATION CODE                      1991 non-null   object\n",
      " 1   LOCATIONS                         1991 non-null   object\n",
      " 2   STATE                             1991 non-null   object\n",
      " 3   Temp                              1991 non-null   object\n",
      " 4   D.O. (mg/l)                       1991 non-null   object\n",
      " 5   PH                                1991 non-null   object\n",
      " 6   CONDUCTIVITY (µmhos/cm)           1991 non-null   object\n",
      " 7   B.O.D. (mg/l)                     1991 non-null   object\n",
      " 8   NITRATENAN N+ NITRITENANN (mg/l)  1991 non-null   object\n",
      " 9   FECAL COLIFORM (MPN/100ml)        1991 non-null   object\n",
      " 10  TOTAL COLIFORM (MPN/100ml)Mean    1991 non-null   object\n",
      " 11  year                              1991 non-null   int64 \n",
      "dtypes: int64(1), object(11)\n",
      "memory usage: 186.8+ KB\n"
     ]
    }
   ],
   "source": [
    "dataset.info()"
   ]
  },
  {
   "cell_type": "markdown",
   "metadata": {},
   "source": [
    "#### Convert to numeric"
   ]
  },
  {
   "cell_type": "code",
   "execution_count": 4,
   "metadata": {},
   "outputs": [
    {
     "name": "stdout",
     "output_type": "stream",
     "text": [
      "<class 'pandas.core.frame.DataFrame'>\n",
      "RangeIndex: 1991 entries, 0 to 1990\n",
      "Data columns (total 12 columns):\n",
      " #   Column                            Non-Null Count  Dtype  \n",
      "---  ------                            --------------  -----  \n",
      " 0   STATION CODE                      1991 non-null   object \n",
      " 1   LOCATIONS                         1991 non-null   object \n",
      " 2   STATE                             1991 non-null   object \n",
      " 3   Temp                              1899 non-null   float64\n",
      " 4   D.O. (mg/l)                       1960 non-null   float64\n",
      " 5   PH                                1983 non-null   float64\n",
      " 6   CONDUCTIVITY (µmhos/cm)           1966 non-null   float64\n",
      " 7   B.O.D. (mg/l)                     1948 non-null   float64\n",
      " 8   NITRATENAN N+ NITRITENANN (mg/l)  1766 non-null   float64\n",
      " 9   FECAL COLIFORM (MPN/100ml)        1675 non-null   float64\n",
      " 10  TOTAL COLIFORM (MPN/100ml)Mean    1859 non-null   float64\n",
      " 11  year                              1991 non-null   int64  \n",
      "dtypes: float64(8), int64(1), object(3)\n",
      "memory usage: 186.8+ KB\n"
     ]
    }
   ],
   "source": [
    "dataset.iloc[:,3:]=dataset.iloc[:,3:].applymap(lambda x: pd.to_numeric(x,errors= \"coerce\"))\n",
    "dataset.info()"
   ]
  },
  {
   "cell_type": "markdown",
   "metadata": {},
   "source": [
    "#### Drop Columns"
   ]
  },
  {
   "cell_type": "code",
   "execution_count": 5,
   "metadata": {
    "scrolled": false
   },
   "outputs": [],
   "source": [
    "dataset.drop(['STATE','STATION CODE',\"LOCATIONS\",\"TOTAL COLIFORM (MPN/100ml)Mean\"],axis=1,inplace=True)"
   ]
  },
  {
   "cell_type": "markdown",
   "metadata": {},
   "source": [
    "#### Check for Null Values"
   ]
  },
  {
   "cell_type": "code",
   "execution_count": 6,
   "metadata": {
    "scrolled": false
   },
   "outputs": [
    {
     "name": "stdout",
     "output_type": "stream",
     "text": [
      "Temp                                 True\n",
      "D.O. (mg/l)                          True\n",
      "PH                                   True\n",
      "CONDUCTIVITY (µmhos/cm)              True\n",
      "B.O.D. (mg/l)                        True\n",
      "NITRATENAN N+ NITRITENANN (mg/l)     True\n",
      "FECAL COLIFORM (MPN/100ml)           True\n",
      "year                                False\n",
      "dtype: bool\n"
     ]
    }
   ],
   "source": [
    "print(dataset.isnull().any())"
   ]
  },
  {
   "cell_type": "markdown",
   "metadata": {},
   "source": [
    "#### Removing Outliners"
   ]
  },
  {
   "cell_type": "code",
   "execution_count": 7,
   "metadata": {
    "scrolled": false
   },
   "outputs": [
    {
     "data": {
      "text/html": [
       "<div>\n",
       "<style scoped>\n",
       "    .dataframe tbody tr th:only-of-type {\n",
       "        vertical-align: middle;\n",
       "    }\n",
       "\n",
       "    .dataframe tbody tr th {\n",
       "        vertical-align: top;\n",
       "    }\n",
       "\n",
       "    .dataframe thead th {\n",
       "        text-align: right;\n",
       "    }\n",
       "</style>\n",
       "<table border=\"1\" class=\"dataframe\">\n",
       "  <thead>\n",
       "    <tr style=\"text-align: right;\">\n",
       "      <th></th>\n",
       "      <th>Temp</th>\n",
       "      <th>D.O. (mg/l)</th>\n",
       "      <th>PH</th>\n",
       "      <th>CONDUCTIVITY (µmhos/cm)</th>\n",
       "      <th>B.O.D. (mg/l)</th>\n",
       "      <th>NITRATENAN N+ NITRITENANN (mg/l)</th>\n",
       "      <th>FECAL COLIFORM (MPN/100ml)</th>\n",
       "      <th>year</th>\n",
       "    </tr>\n",
       "  </thead>\n",
       "  <tbody>\n",
       "    <tr>\n",
       "      <th>count</th>\n",
       "      <td>1899.000000</td>\n",
       "      <td>1960.000000</td>\n",
       "      <td>1983.000000</td>\n",
       "      <td>1966.000000</td>\n",
       "      <td>1948.000000</td>\n",
       "      <td>1766.000000</td>\n",
       "      <td>1.675000e+03</td>\n",
       "      <td>1991.000000</td>\n",
       "    </tr>\n",
       "    <tr>\n",
       "      <th>mean</th>\n",
       "      <td>26.209814</td>\n",
       "      <td>6.392637</td>\n",
       "      <td>112.090674</td>\n",
       "      <td>1786.466394</td>\n",
       "      <td>6.940049</td>\n",
       "      <td>1.623079</td>\n",
       "      <td>3.625294e+05</td>\n",
       "      <td>2010.038172</td>\n",
       "    </tr>\n",
       "    <tr>\n",
       "      <th>std</th>\n",
       "      <td>3.366388</td>\n",
       "      <td>1.332938</td>\n",
       "      <td>1878.930716</td>\n",
       "      <td>5552.276223</td>\n",
       "      <td>29.400026</td>\n",
       "      <td>4.090481</td>\n",
       "      <td>8.764767e+06</td>\n",
       "      <td>3.057333</td>\n",
       "    </tr>\n",
       "    <tr>\n",
       "      <th>min</th>\n",
       "      <td>10.000000</td>\n",
       "      <td>0.000000</td>\n",
       "      <td>0.000000</td>\n",
       "      <td>0.400000</td>\n",
       "      <td>0.100000</td>\n",
       "      <td>0.000000</td>\n",
       "      <td>0.000000e+00</td>\n",
       "      <td>2003.000000</td>\n",
       "    </tr>\n",
       "    <tr>\n",
       "      <th>25%</th>\n",
       "      <td>24.750000</td>\n",
       "      <td>5.900000</td>\n",
       "      <td>6.900000</td>\n",
       "      <td>78.000000</td>\n",
       "      <td>1.200000</td>\n",
       "      <td>0.240000</td>\n",
       "      <td>2.600000e+01</td>\n",
       "      <td>2008.000000</td>\n",
       "    </tr>\n",
       "    <tr>\n",
       "      <th>50%</th>\n",
       "      <td>27.000000</td>\n",
       "      <td>6.700000</td>\n",
       "      <td>7.300000</td>\n",
       "      <td>183.000000</td>\n",
       "      <td>1.896500</td>\n",
       "      <td>0.516000</td>\n",
       "      <td>2.210000e+02</td>\n",
       "      <td>2011.000000</td>\n",
       "    </tr>\n",
       "    <tr>\n",
       "      <th>75%</th>\n",
       "      <td>28.400000</td>\n",
       "      <td>7.200000</td>\n",
       "      <td>7.700000</td>\n",
       "      <td>592.750000</td>\n",
       "      <td>3.600000</td>\n",
       "      <td>1.500000</td>\n",
       "      <td>9.965000e+02</td>\n",
       "      <td>2013.000000</td>\n",
       "    </tr>\n",
       "    <tr>\n",
       "      <th>max</th>\n",
       "      <td>35.000000</td>\n",
       "      <td>11.400000</td>\n",
       "      <td>67115.000000</td>\n",
       "      <td>65700.000000</td>\n",
       "      <td>534.500000</td>\n",
       "      <td>108.700000</td>\n",
       "      <td>2.725216e+08</td>\n",
       "      <td>2014.000000</td>\n",
       "    </tr>\n",
       "  </tbody>\n",
       "</table>\n",
       "</div>"
      ],
      "text/plain": [
       "              Temp  D.O. (mg/l)            PH  CONDUCTIVITY (µmhos/cm)  \\\n",
       "count  1899.000000  1960.000000   1983.000000              1966.000000   \n",
       "mean     26.209814     6.392637    112.090674              1786.466394   \n",
       "std       3.366388     1.332938   1878.930716              5552.276223   \n",
       "min      10.000000     0.000000      0.000000                 0.400000   \n",
       "25%      24.750000     5.900000      6.900000                78.000000   \n",
       "50%      27.000000     6.700000      7.300000               183.000000   \n",
       "75%      28.400000     7.200000      7.700000               592.750000   \n",
       "max      35.000000    11.400000  67115.000000             65700.000000   \n",
       "\n",
       "       B.O.D. (mg/l)  NITRATENAN N+ NITRITENANN (mg/l)  \\\n",
       "count    1948.000000                       1766.000000   \n",
       "mean        6.940049                          1.623079   \n",
       "std        29.400026                          4.090481   \n",
       "min         0.100000                          0.000000   \n",
       "25%         1.200000                          0.240000   \n",
       "50%         1.896500                          0.516000   \n",
       "75%         3.600000                          1.500000   \n",
       "max       534.500000                        108.700000   \n",
       "\n",
       "       FECAL COLIFORM (MPN/100ml)         year  \n",
       "count                1.675000e+03  1991.000000  \n",
       "mean                 3.625294e+05  2010.038172  \n",
       "std                  8.764767e+06     3.057333  \n",
       "min                  0.000000e+00  2003.000000  \n",
       "25%                  2.600000e+01  2008.000000  \n",
       "50%                  2.210000e+02  2011.000000  \n",
       "75%                  9.965000e+02  2013.000000  \n",
       "max                  2.725216e+08  2014.000000  "
      ]
     },
     "execution_count": 7,
     "metadata": {},
     "output_type": "execute_result"
    }
   ],
   "source": [
    "dataset.describe()"
   ]
  },
  {
   "cell_type": "code",
   "execution_count": 8,
   "metadata": {},
   "outputs": [
    {
     "data": {
      "text/plain": [
       "<matplotlib.collections.PathCollection at 0x2ad95bba3c8>"
      ]
     },
     "execution_count": 8,
     "metadata": {},
     "output_type": "execute_result"
    },
    {
     "data": {
      "image/png": "[encoded data removed]",
      "text/plain": [
       "<Figure size 432x288 with 1 Axes>"
      ]
     },
     "metadata": {
      "needs_background": "light"
     },
     "output_type": "display_data"
    }
   ],
   "source": [
    "plt.scatter(range(1991),dataset[\"PH\"])"
   ]
  },
  {
   "cell_type": "code",
   "execution_count": 9,
   "metadata": {},
   "outputs": [
    {
     "data": {
      "text/plain": [
       "<matplotlib.collections.PathCollection at 0x2ad95b31a88>"
      ]
     },
     "execution_count": 9,
     "metadata": {},
     "output_type": "execute_result"
    },
    {
     "data": {
      "image/png": "[encoded data removed]",
      "text/plain": [
       "<Figure size 432x288 with 1 Axes>"
      ]
     },
     "metadata": {
      "needs_background": "light"
     },
     "output_type": "display_data"
    }
   ],
   "source": [
    "plt.scatter(range(1991),dataset[\"D.O. (mg/l)\"])"
   ]
  },
  {
   "cell_type": "code",
   "execution_count": 10,
   "metadata": {},
   "outputs": [
    {
     "data": {
      "text/plain": [
       "<matplotlib.collections.PathCollection at 0x2ad95b16988>"
      ]
     },
     "execution_count": 10,
     "metadata": {},
     "output_type": "execute_result"
    },
    {
     "data": {
      "image/png": "[encoded data removed]",
      "text/plain": [
       "<Figure size 432x288 with 1 Axes>"
      ]
     },
     "metadata": {
      "needs_background": "light"
     },
     "output_type": "display_data"
    }
   ],
   "source": [
    "plt.scatter(range(1991),dataset[\"CONDUCTIVITY (µmhos/cm)\"])"
   ]
  },
  {
   "cell_type": "code",
   "execution_count": 11,
   "metadata": {},
   "outputs": [
    {
     "data": {
      "text/plain": [
       "<matplotlib.collections.PathCollection at 0x2ad95dd8f48>"
      ]
     },
     "execution_count": 11,
     "metadata": {},
     "output_type": "execute_result"
    },
    {
     "data": {
      "image/png": "[encoded data removed]",
      "text/plain": [
       "<Figure size 432x288 with 1 Axes>"
      ]
     },
     "metadata": {
      "needs_background": "light"
     },
     "output_type": "display_data"
    }
   ],
   "source": [
    "plt.scatter(range(1991),dataset[\"B.O.D. (mg/l)\"])"
   ]
  },
  {
   "cell_type": "code",
   "execution_count": 12,
   "metadata": {},
   "outputs": [
    {
     "data": {
      "text/plain": [
       "<matplotlib.collections.PathCollection at 0x2ad95dbd408>"
      ]
     },
     "execution_count": 12,
     "metadata": {},
     "output_type": "execute_result"
    },
    {
     "data": {
      "image/png": "[encoded data removed]",
      "text/plain": [
       "<Figure size 432x288 with 1 Axes>"
      ]
     },
     "metadata": {
      "needs_background": "light"
     },
     "output_type": "display_data"
    }
   ],
   "source": [
    "plt.scatter(range(1991),dataset[\"NITRATENAN N+ NITRITENANN (mg/l)\"])"
   ]
  },
  {
   "cell_type": "code",
   "execution_count": 13,
   "metadata": {},
   "outputs": [
    {
     "data": {
      "text/plain": [
       "<matplotlib.collections.PathCollection at 0x2ad95eb1208>"
      ]
     },
     "execution_count": 13,
     "metadata": {},
     "output_type": "execute_result"
    },
    {
     "data": {
      "image/png": "[encoded data removed]",
      "text/plain": [
       "<Figure size 432x288 with 1 Axes>"
      ]
     },
     "metadata": {
      "needs_background": "light"
     },
     "output_type": "display_data"
    }
   ],
   "source": [
    "plt.scatter(range(1991),dataset[\"FECAL COLIFORM (MPN/100ml)\"])"
   ]
  },
  {
   "cell_type": "code",
   "execution_count": 14,
   "metadata": {
    "scrolled": true
   },
   "outputs": [],
   "source": [
    "dataset=dataset[dataset[\"PH\"]<14]\n",
    "dataset=dataset[dataset[\"PH\"]>4]\n",
    "dataset=dataset[dataset[\"B.O.D. (mg/l)\"]<190]\n",
    "dataset=dataset[dataset[\"FECAL COLIFORM (MPN/100ml)\"]<1000000000]"
   ]
  },
  {
   "cell_type": "code",
   "execution_count": 15,
   "metadata": {},
   "outputs": [
    {
     "name": "stdout",
     "output_type": "stream",
     "text": [
      "<class 'pandas.core.frame.DataFrame'>\n",
      "Int64Index: 1596 entries, 1 to 1900\n",
      "Data columns (total 8 columns):\n",
      " #   Column                            Non-Null Count  Dtype  \n",
      "---  ------                            --------------  -----  \n",
      " 0   Temp                              1550 non-null   float64\n",
      " 1   D.O. (mg/l)                       1594 non-null   float64\n",
      " 2   PH                                1596 non-null   float64\n",
      " 3   CONDUCTIVITY (µmhos/cm)           1594 non-null   float64\n",
      " 4   B.O.D. (mg/l)                     1596 non-null   float64\n",
      " 5   NITRATENAN N+ NITRITENANN (mg/l)  1563 non-null   float64\n",
      " 6   FECAL COLIFORM (MPN/100ml)        1596 non-null   float64\n",
      " 7   year                              1596 non-null   int64  \n",
      "dtypes: float64(7), int64(1)\n",
      "memory usage: 112.2 KB\n",
      "None\n"
     ]
    },
    {
     "data": {
      "text/html": [
       "<div>\n",
       "<style scoped>\n",
       "    .dataframe tbody tr th:only-of-type {\n",
       "        vertical-align: middle;\n",
       "    }\n",
       "\n",
       "    .dataframe tbody tr th {\n",
       "        vertical-align: top;\n",
       "    }\n",
       "\n",
       "    .dataframe thead th {\n",
       "        text-align: right;\n",
       "    }\n",
       "</style>\n",
       "<table border=\"1\" class=\"dataframe\">\n",
       "  <thead>\n",
       "    <tr style=\"text-align: right;\">\n",
       "      <th></th>\n",
       "      <th>Temp</th>\n",
       "      <th>D.O. (mg/l)</th>\n",
       "      <th>PH</th>\n",
       "      <th>CONDUCTIVITY (µmhos/cm)</th>\n",
       "      <th>B.O.D. (mg/l)</th>\n",
       "      <th>NITRATENAN N+ NITRITENANN (mg/l)</th>\n",
       "      <th>FECAL COLIFORM (MPN/100ml)</th>\n",
       "      <th>year</th>\n",
       "    </tr>\n",
       "  </thead>\n",
       "  <tbody>\n",
       "    <tr>\n",
       "      <th>count</th>\n",
       "      <td>1550.000000</td>\n",
       "      <td>1594.000000</td>\n",
       "      <td>1596.000000</td>\n",
       "      <td>1594.000000</td>\n",
       "      <td>1596.000000</td>\n",
       "      <td>1563.000000</td>\n",
       "      <td>1.596000e+03</td>\n",
       "      <td>1596.000000</td>\n",
       "    </tr>\n",
       "    <tr>\n",
       "      <th>mean</th>\n",
       "      <td>26.321120</td>\n",
       "      <td>6.321489</td>\n",
       "      <td>7.210962</td>\n",
       "      <td>1840.548701</td>\n",
       "      <td>4.570059</td>\n",
       "      <td>1.391031</td>\n",
       "      <td>3.797053e+05</td>\n",
       "      <td>2010.441103</td>\n",
       "    </tr>\n",
       "    <tr>\n",
       "      <th>std</th>\n",
       "      <td>3.263076</td>\n",
       "      <td>1.285105</td>\n",
       "      <td>0.503566</td>\n",
       "      <td>5339.636857</td>\n",
       "      <td>10.977493</td>\n",
       "      <td>2.809978</td>\n",
       "      <td>8.978805e+06</td>\n",
       "      <td>2.716658</td>\n",
       "    </tr>\n",
       "    <tr>\n",
       "      <th>min</th>\n",
       "      <td>10.000000</td>\n",
       "      <td>0.000000</td>\n",
       "      <td>5.600000</td>\n",
       "      <td>11.000000</td>\n",
       "      <td>0.100000</td>\n",
       "      <td>0.000000</td>\n",
       "      <td>0.000000e+00</td>\n",
       "      <td>2005.000000</td>\n",
       "    </tr>\n",
       "    <tr>\n",
       "      <th>25%</th>\n",
       "      <td>25.000000</td>\n",
       "      <td>5.900000</td>\n",
       "      <td>6.900000</td>\n",
       "      <td>79.000000</td>\n",
       "      <td>1.100000</td>\n",
       "      <td>0.250000</td>\n",
       "      <td>3.400000e+01</td>\n",
       "      <td>2008.000000</td>\n",
       "    </tr>\n",
       "    <tr>\n",
       "      <th>50%</th>\n",
       "      <td>27.000000</td>\n",
       "      <td>6.700000</td>\n",
       "      <td>7.200000</td>\n",
       "      <td>180.500000</td>\n",
       "      <td>1.700000</td>\n",
       "      <td>0.500000</td>\n",
       "      <td>2.360000e+02</td>\n",
       "      <td>2011.000000</td>\n",
       "    </tr>\n",
       "    <tr>\n",
       "      <th>75%</th>\n",
       "      <td>28.400000</td>\n",
       "      <td>7.100000</td>\n",
       "      <td>7.600000</td>\n",
       "      <td>611.250000</td>\n",
       "      <td>3.400000</td>\n",
       "      <td>1.406000</td>\n",
       "      <td>1.082750e+03</td>\n",
       "      <td>2013.000000</td>\n",
       "    </tr>\n",
       "    <tr>\n",
       "      <th>max</th>\n",
       "      <td>35.000000</td>\n",
       "      <td>10.000000</td>\n",
       "      <td>9.010000</td>\n",
       "      <td>47156.000000</td>\n",
       "      <td>185.800000</td>\n",
       "      <td>58.100000</td>\n",
       "      <td>2.725216e+08</td>\n",
       "      <td>2014.000000</td>\n",
       "    </tr>\n",
       "  </tbody>\n",
       "</table>\n",
       "</div>"
      ],
      "text/plain": [
       "              Temp  D.O. (mg/l)           PH  CONDUCTIVITY (µmhos/cm)  \\\n",
       "count  1550.000000  1594.000000  1596.000000              1594.000000   \n",
       "mean     26.321120     6.321489     7.210962              1840.548701   \n",
       "std       3.263076     1.285105     0.503566              5339.636857   \n",
       "min      10.000000     0.000000     5.600000                11.000000   \n",
       "25%      25.000000     5.900000     6.900000                79.000000   \n",
       "50%      27.000000     6.700000     7.200000               180.500000   \n",
       "75%      28.400000     7.100000     7.600000               611.250000   \n",
       "max      35.000000    10.000000     9.010000             47156.000000   \n",
       "\n",
       "       B.O.D. (mg/l)  NITRATENAN N+ NITRITENANN (mg/l)  \\\n",
       "count    1596.000000                       1563.000000   \n",
       "mean        4.570059                          1.391031   \n",
       "std        10.977493                          2.809978   \n",
       "min         0.100000                          0.000000   \n",
       "25%         1.100000                          0.250000   \n",
       "50%         1.700000                          0.500000   \n",
       "75%         3.400000                          1.406000   \n",
       "max       185.800000                         58.100000   \n",
       "\n",
       "       FECAL COLIFORM (MPN/100ml)         year  \n",
       "count                1.596000e+03  1596.000000  \n",
       "mean                 3.797053e+05  2010.441103  \n",
       "std                  8.978805e+06     2.716658  \n",
       "min                  0.000000e+00  2005.000000  \n",
       "25%                  3.400000e+01  2008.000000  \n",
       "50%                  2.360000e+02  2011.000000  \n",
       "75%                  1.082750e+03  2013.000000  \n",
       "max                  2.725216e+08  2014.000000  "
      ]
     },
     "execution_count": 15,
     "metadata": {},
     "output_type": "execute_result"
    }
   ],
   "source": [
    "print(dataset.info())\n",
    "dataset.describe()"
   ]
  },
  {
   "cell_type": "markdown",
   "metadata": {},
   "source": [
    "#### Fill NaN"
   ]
  },
  {
   "cell_type": "code",
   "execution_count": 16,
   "metadata": {},
   "outputs": [
    {
     "name": "stdout",
     "output_type": "stream",
     "text": [
      "<class 'pandas.core.frame.DataFrame'>\n",
      "Int64Index: 1596 entries, 1 to 1900\n",
      "Data columns (total 8 columns):\n",
      " #   Column                            Non-Null Count  Dtype  \n",
      "---  ------                            --------------  -----  \n",
      " 0   Temp                              1596 non-null   float64\n",
      " 1   D.O. (mg/l)                       1596 non-null   float64\n",
      " 2   PH                                1596 non-null   float64\n",
      " 3   CONDUCTIVITY (µmhos/cm)           1596 non-null   float64\n",
      " 4   B.O.D. (mg/l)                     1596 non-null   float64\n",
      " 5   NITRATENAN N+ NITRITENANN (mg/l)  1596 non-null   float64\n",
      " 6   FECAL COLIFORM (MPN/100ml)        1596 non-null   float64\n",
      " 7   year                              1596 non-null   int64  \n",
      "dtypes: float64(7), int64(1)\n",
      "memory usage: 112.2 KB\n"
     ]
    }
   ],
   "source": [
    "dataset['Temp']=dataset['Temp'].replace(np.NaN,dataset['Temp'].mean())#26.318446\n",
    "dataset['D.O. (mg/l)']=dataset['D.O. (mg/l)'].replace(np.NaN,dataset['D.O. (mg/l)'].mean())\n",
    "dataset['CONDUCTIVITY (µmhos/cm)']=dataset['CONDUCTIVITY (µmhos/cm)'].replace(np.NaN,dataset['CONDUCTIVITY (µmhos/cm)'].mean())\n",
    "dataset['NITRATENAN N+ NITRITENANN (mg/l)']=dataset['NITRATENAN N+ NITRITENANN (mg/l)'].replace(np.NaN,dataset['NITRATENAN N+ NITRITENANN (mg/l)'].mean())\n",
    "dataset.info()"
   ]
  },
  {
   "cell_type": "markdown",
   "metadata": {},
   "source": [
    "#### Organize Dataset"
   ]
  },
  {
   "cell_type": "code",
   "execution_count": 17,
   "metadata": {},
   "outputs": [
    {
     "data": {
      "text/html": [
       "<div>\n",
       "<style scoped>\n",
       "    .dataframe tbody tr th:only-of-type {\n",
       "        vertical-align: middle;\n",
       "    }\n",
       "\n",
       "    .dataframe tbody tr th {\n",
       "        vertical-align: top;\n",
       "    }\n",
       "\n",
       "    .dataframe thead th {\n",
       "        text-align: right;\n",
       "    }\n",
       "</style>\n",
       "<table border=\"1\" class=\"dataframe\">\n",
       "  <thead>\n",
       "    <tr style=\"text-align: right;\">\n",
       "      <th></th>\n",
       "      <th>Temp</th>\n",
       "      <th>D.O. (mg/l)</th>\n",
       "      <th>PH</th>\n",
       "      <th>CONDUCTIVITY (µmhos/cm)</th>\n",
       "      <th>B.O.D. (mg/l)</th>\n",
       "      <th>NITRATENAN N+ NITRITENANN (mg/l)</th>\n",
       "      <th>FECAL COLIFORM (MPN/100ml)</th>\n",
       "    </tr>\n",
       "    <tr>\n",
       "      <th>year</th>\n",
       "      <th></th>\n",
       "      <th></th>\n",
       "      <th></th>\n",
       "      <th></th>\n",
       "      <th></th>\n",
       "      <th></th>\n",
       "      <th></th>\n",
       "    </tr>\n",
       "  </thead>\n",
       "  <tbody>\n",
       "    <tr>\n",
       "      <th>2005</th>\n",
       "      <td>26.543929</td>\n",
       "      <td>6.458511</td>\n",
       "      <td>7.244787</td>\n",
       "      <td>1792.402128</td>\n",
       "      <td>3.940489</td>\n",
       "      <td>0.733937</td>\n",
       "      <td>1.918894e+03</td>\n",
       "    </tr>\n",
       "    <tr>\n",
       "      <th>2006</th>\n",
       "      <td>25.047139</td>\n",
       "      <td>6.443528</td>\n",
       "      <td>7.227909</td>\n",
       "      <td>1544.775553</td>\n",
       "      <td>4.118500</td>\n",
       "      <td>0.994501</td>\n",
       "      <td>3.184227e+03</td>\n",
       "    </tr>\n",
       "    <tr>\n",
       "      <th>2007</th>\n",
       "      <td>26.204301</td>\n",
       "      <td>6.466667</td>\n",
       "      <td>7.149462</td>\n",
       "      <td>2237.419355</td>\n",
       "      <td>3.040860</td>\n",
       "      <td>0.821809</td>\n",
       "      <td>6.136817e+03</td>\n",
       "    </tr>\n",
       "    <tr>\n",
       "      <th>2008</th>\n",
       "      <td>26.788321</td>\n",
       "      <td>6.088321</td>\n",
       "      <td>7.070073</td>\n",
       "      <td>1504.569343</td>\n",
       "      <td>4.265766</td>\n",
       "      <td>1.104490</td>\n",
       "      <td>5.323146e+03</td>\n",
       "    </tr>\n",
       "    <tr>\n",
       "      <th>2009</th>\n",
       "      <td>27.264151</td>\n",
       "      <td>6.223742</td>\n",
       "      <td>7.150440</td>\n",
       "      <td>3535.513703</td>\n",
       "      <td>4.636478</td>\n",
       "      <td>1.471995</td>\n",
       "      <td>1.344756e+03</td>\n",
       "    </tr>\n",
       "    <tr>\n",
       "      <th>2010</th>\n",
       "      <td>26.683836</td>\n",
       "      <td>6.426362</td>\n",
       "      <td>7.119560</td>\n",
       "      <td>1664.389937</td>\n",
       "      <td>4.538805</td>\n",
       "      <td>1.173485</td>\n",
       "      <td>1.558840e+03</td>\n",
       "    </tr>\n",
       "    <tr>\n",
       "      <th>2011</th>\n",
       "      <td>26.830233</td>\n",
       "      <td>6.389535</td>\n",
       "      <td>7.275000</td>\n",
       "      <td>2172.546512</td>\n",
       "      <td>4.900000</td>\n",
       "      <td>1.536808</td>\n",
       "      <td>1.333326e+03</td>\n",
       "    </tr>\n",
       "    <tr>\n",
       "      <th>2012</th>\n",
       "      <td>25.953586</td>\n",
       "      <td>6.352321</td>\n",
       "      <td>7.279325</td>\n",
       "      <td>1396.464135</td>\n",
       "      <td>5.073840</td>\n",
       "      <td>1.594190</td>\n",
       "      <td>7.620333e+05</td>\n",
       "    </tr>\n",
       "    <tr>\n",
       "      <th>2013</th>\n",
       "      <td>26.037288</td>\n",
       "      <td>6.312288</td>\n",
       "      <td>7.258898</td>\n",
       "      <td>1529.766949</td>\n",
       "      <td>4.661441</td>\n",
       "      <td>1.774788</td>\n",
       "      <td>6.340517e+05</td>\n",
       "    </tr>\n",
       "    <tr>\n",
       "      <th>2014</th>\n",
       "      <td>25.854751</td>\n",
       "      <td>6.216742</td>\n",
       "      <td>7.238009</td>\n",
       "      <td>1477.076923</td>\n",
       "      <td>4.929864</td>\n",
       "      <td>1.602715</td>\n",
       "      <td>1.236742e+06</td>\n",
       "    </tr>\n",
       "  </tbody>\n",
       "</table>\n",
       "</div>"
      ],
      "text/plain": [
       "           Temp  D.O. (mg/l)        PH  CONDUCTIVITY (µmhos/cm)  \\\n",
       "year                                                              \n",
       "2005  26.543929     6.458511  7.244787              1792.402128   \n",
       "2006  25.047139     6.443528  7.227909              1544.775553   \n",
       "2007  26.204301     6.466667  7.149462              2237.419355   \n",
       "2008  26.788321     6.088321  7.070073              1504.569343   \n",
       "2009  27.264151     6.223742  7.150440              3535.513703   \n",
       "2010  26.683836     6.426362  7.119560              1664.389937   \n",
       "2011  26.830233     6.389535  7.275000              2172.546512   \n",
       "2012  25.953586     6.352321  7.279325              1396.464135   \n",
       "2013  26.037288     6.312288  7.258898              1529.766949   \n",
       "2014  25.854751     6.216742  7.238009              1477.076923   \n",
       "\n",
       "      B.O.D. (mg/l)  NITRATENAN N+ NITRITENANN (mg/l)  \\\n",
       "year                                                    \n",
       "2005       3.940489                          0.733937   \n",
       "2006       4.118500                          0.994501   \n",
       "2007       3.040860                          0.821809   \n",
       "2008       4.265766                          1.104490   \n",
       "2009       4.636478                          1.471995   \n",
       "2010       4.538805                          1.173485   \n",
       "2011       4.900000                          1.536808   \n",
       "2012       5.073840                          1.594190   \n",
       "2013       4.661441                          1.774788   \n",
       "2014       4.929864                          1.602715   \n",
       "\n",
       "      FECAL COLIFORM (MPN/100ml)  \n",
       "year                              \n",
       "2005                1.918894e+03  \n",
       "2006                3.184227e+03  \n",
       "2007                6.136817e+03  \n",
       "2008                5.323146e+03  \n",
       "2009                1.344756e+03  \n",
       "2010                1.558840e+03  \n",
       "2011                1.333326e+03  \n",
       "2012                7.620333e+05  \n",
       "2013                6.340517e+05  \n",
       "2014                1.236742e+06  "
      ]
     },
     "execution_count": 17,
     "metadata": {},
     "output_type": "execute_result"
    }
   ],
   "source": [
    "df=dataset.groupby(by=[\"year\"],sort=True,as_index=True).mean()\n",
    "df"
   ]
  },
  {
   "cell_type": "code",
   "execution_count": 18,
   "metadata": {},
   "outputs": [
    {
     "data": {
      "text/html": [
       "<div>\n",
       "<style scoped>\n",
       "    .dataframe tbody tr th:only-of-type {\n",
       "        vertical-align: middle;\n",
       "    }\n",
       "\n",
       "    .dataframe tbody tr th {\n",
       "        vertical-align: top;\n",
       "    }\n",
       "\n",
       "    .dataframe thead th {\n",
       "        text-align: right;\n",
       "    }\n",
       "</style>\n",
       "<table border=\"1\" class=\"dataframe\">\n",
       "  <thead>\n",
       "    <tr style=\"text-align: right;\">\n",
       "      <th></th>\n",
       "      <th>Temp</th>\n",
       "      <th>D.O. (mg/l)</th>\n",
       "      <th>PH</th>\n",
       "      <th>CONDUCTIVITY (µmhos/cm)</th>\n",
       "      <th>B.O.D. (mg/l)</th>\n",
       "      <th>NITRATENAN N+ NITRITENANN (mg/l)</th>\n",
       "      <th>FECAL COLIFORM (MPN/100ml)</th>\n",
       "    </tr>\n",
       "  </thead>\n",
       "  <tbody>\n",
       "    <tr>\n",
       "      <th>count</th>\n",
       "      <td>10.000000</td>\n",
       "      <td>10.000000</td>\n",
       "      <td>10.000000</td>\n",
       "      <td>10.000000</td>\n",
       "      <td>10.000000</td>\n",
       "      <td>10.000000</td>\n",
       "      <td>1.000000e+01</td>\n",
       "    </tr>\n",
       "    <tr>\n",
       "      <th>mean</th>\n",
       "      <td>26.320754</td>\n",
       "      <td>6.337802</td>\n",
       "      <td>7.201346</td>\n",
       "      <td>1885.492454</td>\n",
       "      <td>4.410604</td>\n",
       "      <td>1.280872</td>\n",
       "      <td>2.653627e+05</td>\n",
       "    </tr>\n",
       "    <tr>\n",
       "      <th>std</th>\n",
       "      <td>0.634017</td>\n",
       "      <td>0.126334</td>\n",
       "      <td>0.072999</td>\n",
       "      <td>648.079027</td>\n",
       "      <td>0.603959</td>\n",
       "      <td>0.362440</td>\n",
       "      <td>4.482261e+05</td>\n",
       "    </tr>\n",
       "    <tr>\n",
       "      <th>min</th>\n",
       "      <td>25.047139</td>\n",
       "      <td>6.088321</td>\n",
       "      <td>7.070073</td>\n",
       "      <td>1396.464135</td>\n",
       "      <td>3.040860</td>\n",
       "      <td>0.733937</td>\n",
       "      <td>1.333326e+03</td>\n",
       "    </tr>\n",
       "    <tr>\n",
       "      <th>25%</th>\n",
       "      <td>25.974512</td>\n",
       "      <td>6.245879</td>\n",
       "      <td>7.149707</td>\n",
       "      <td>1510.868745</td>\n",
       "      <td>4.155317</td>\n",
       "      <td>1.021998</td>\n",
       "      <td>1.648853e+03</td>\n",
       "    </tr>\n",
       "    <tr>\n",
       "      <th>50%</th>\n",
       "      <td>26.374115</td>\n",
       "      <td>6.370928</td>\n",
       "      <td>7.232959</td>\n",
       "      <td>1604.582745</td>\n",
       "      <td>4.587642</td>\n",
       "      <td>1.322740</td>\n",
       "      <td>4.253687e+03</td>\n",
       "    </tr>\n",
       "    <tr>\n",
       "      <th>75%</th>\n",
       "      <td>26.762200</td>\n",
       "      <td>6.439237</td>\n",
       "      <td>7.255371</td>\n",
       "      <td>2077.510416</td>\n",
       "      <td>4.840360</td>\n",
       "      <td>1.579845</td>\n",
       "      <td>4.770730e+05</td>\n",
       "    </tr>\n",
       "    <tr>\n",
       "      <th>max</th>\n",
       "      <td>27.264151</td>\n",
       "      <td>6.466667</td>\n",
       "      <td>7.279325</td>\n",
       "      <td>3535.513703</td>\n",
       "      <td>5.073840</td>\n",
       "      <td>1.774788</td>\n",
       "      <td>1.236742e+06</td>\n",
       "    </tr>\n",
       "  </tbody>\n",
       "</table>\n",
       "</div>"
      ],
      "text/plain": [
       "            Temp  D.O. (mg/l)         PH  CONDUCTIVITY (µmhos/cm)  \\\n",
       "count  10.000000    10.000000  10.000000                10.000000   \n",
       "mean   26.320754     6.337802   7.201346              1885.492454   \n",
       "std     0.634017     0.126334   0.072999               648.079027   \n",
       "min    25.047139     6.088321   7.070073              1396.464135   \n",
       "25%    25.974512     6.245879   7.149707              1510.868745   \n",
       "50%    26.374115     6.370928   7.232959              1604.582745   \n",
       "75%    26.762200     6.439237   7.255371              2077.510416   \n",
       "max    27.264151     6.466667   7.279325              3535.513703   \n",
       "\n",
       "       B.O.D. (mg/l)  NITRATENAN N+ NITRITENANN (mg/l)  \\\n",
       "count      10.000000                         10.000000   \n",
       "mean        4.410604                          1.280872   \n",
       "std         0.603959                          0.362440   \n",
       "min         3.040860                          0.733937   \n",
       "25%         4.155317                          1.021998   \n",
       "50%         4.587642                          1.322740   \n",
       "75%         4.840360                          1.579845   \n",
       "max         5.073840                          1.774788   \n",
       "\n",
       "       FECAL COLIFORM (MPN/100ml)  \n",
       "count                1.000000e+01  \n",
       "mean                 2.653627e+05  \n",
       "std                  4.482261e+05  \n",
       "min                  1.333326e+03  \n",
       "25%                  1.648853e+03  \n",
       "50%                  4.253687e+03  \n",
       "75%                  4.770730e+05  \n",
       "max                  1.236742e+06  "
      ]
     },
     "execution_count": 18,
     "metadata": {},
     "output_type": "execute_result"
    }
   ],
   "source": [
    "df.describe()"
   ]
  },
  {
   "cell_type": "code",
   "execution_count": 19,
   "metadata": {},
   "outputs": [
    {
     "name": "stderr",
     "output_type": "stream",
     "text": [
      "D:\\NAVYA\\Bunny\\apps\\anaconda\\lib\\site-packages\\ipykernel_launcher.py:1: DeprecationWarning: The default dtype for empty Series will be 'object' instead of 'float64' in a future version. Specify a dtype explicitly to silence this warning.\n",
      "  \"\"\"Entry point for launching an IPython kernel.\n"
     ]
    }
   ],
   "source": [
    "y=pd.Series()\n",
    "yy=pd.DataFrame()"
   ]
  },
  {
   "cell_type": "code",
   "execution_count": 20,
   "metadata": {},
   "outputs": [],
   "source": [
    "y=df[\"PH\"].apply(lambda x: (0 if (8>=x>=7)\n",
    "                      else (0.028 if (8.5>=x>=8) or (7>=x>=6.5)\n",
    "                      else (0.084 if (9>=x>=8.8) or (6.5>=x>=6.3)\n",
    "                      else (0.112 if (10>=x>=9)  or (6.3>=x>=6)\n",
    "                      else  0.14)))))\n",
    "yy[\"PH\"]=df[\"PH\"].apply(lambda x: (0 if (8>=x>=7)\n",
    "                      else (0.028 if (8.5>=x>=8) or (7>=x>=6.5)\n",
    "                      else (0.084 if (9>=x>=8.8) or (6.5>=x>=6.3)\n",
    "                      else (0.112 if (10>=x>=9)  or (6.3>=x>=6)\n",
    "                      else  0.14)))))"
   ]
  },
  {
   "cell_type": "code",
   "execution_count": 21,
   "metadata": {},
   "outputs": [],
   "source": [
    "yy[\"D.O. (mg/l)\"]=df[\"D.O. (mg/l)\"].apply(lambda x: (0 if (8>=x>=6.5)\n",
    "                                 else (0.04 if (6.5>=x>=6)\n",
    "                                 else  0.2)))\n",
    "y=y+yy[\"D.O. (mg/l)\"]"
   ]
  },
  {
   "cell_type": "code",
   "execution_count": 22,
   "metadata": {},
   "outputs": [],
   "source": [
    "yy[\"CONDUCTIVITY (µmhos/cm)\"]=df[\"CONDUCTIVITY (µmhos/cm)\"].apply(lambda x: (0 if (1500>=x>=50)\n",
    "                                             else (0.012 if (2000>=x>=1500)\n",
    "                                             else (0.048 if (2500>=x>=2000)\n",
    "                                             else  0.06))))\n",
    "y=y+yy[\"CONDUCTIVITY (µmhos/cm)\"]"
   ]
  },
  {
   "cell_type": "code",
   "execution_count": 23,
   "metadata": {},
   "outputs": [],
   "source": [
    "yy[\"NITRATENAN N+ NITRITENANN (mg/l)\"]=df[\"NITRATENAN N+ NITRITENANN (mg/l)\"].apply(lambda x: (0 if (1>=x)\n",
    "                                           else (0.036 if (1.5>=x>=1)\n",
    "                                           else (0.144 if (2>=x>=1.5)\n",
    "                                           else  0.18))))\n",
    "y=y+yy[\"NITRATENAN N+ NITRITENANN (mg/l)\"]"
   ]
  },
  {
   "cell_type": "code",
   "execution_count": 24,
   "metadata": {},
   "outputs": [],
   "source": [
    "yy[\"B.O.D. (mg/l)\"]=df[\"B.O.D. (mg/l)\"].apply(lambda x: (0 if (3>=x>=0)\n",
    "                              else (0.024 if (5>=x>=3)\n",
    "                              else (0.072 if (10>=x>=5)\n",
    "                              else  0.12))))\n",
    "y=y+yy[\"B.O.D. (mg/l)\"]"
   ]
  },
  {
   "cell_type": "code",
   "execution_count": 25,
   "metadata": {},
   "outputs": [],
   "source": [
    "yy[\"FECAL COLIFORM (MPN/100ml)\"]=df[\"FECAL COLIFORM (MPN/100ml)\"].apply(lambda x: (0 if (5000>=x>=0)\n",
    "                                     else (0.04 if (10000>=x>=5000)\n",
    "                                     else (0.12 if (100000>=x>=10000)\n",
    "                                     else  0.2))))\n",
    "y=y+yy[\"FECAL COLIFORM (MPN/100ml)\"]"
   ]
  },
  {
   "cell_type": "code",
   "execution_count": 26,
   "metadata": {},
   "outputs": [],
   "source": [
    "y=y*100\n",
    "yy[\"y\"]=y"
   ]
  },
  {
   "cell_type": "code",
   "execution_count": 27,
   "metadata": {},
   "outputs": [
    {
     "data": {
      "text/html": [
       "<div>\n",
       "<style scoped>\n",
       "    .dataframe tbody tr th:only-of-type {\n",
       "        vertical-align: middle;\n",
       "    }\n",
       "\n",
       "    .dataframe tbody tr th {\n",
       "        vertical-align: top;\n",
       "    }\n",
       "\n",
       "    .dataframe thead th {\n",
       "        text-align: right;\n",
       "    }\n",
       "</style>\n",
       "<table border=\"1\" class=\"dataframe\">\n",
       "  <thead>\n",
       "    <tr style=\"text-align: right;\">\n",
       "      <th></th>\n",
       "      <th>PH</th>\n",
       "      <th>D.O. (mg/l)</th>\n",
       "      <th>CONDUCTIVITY (µmhos/cm)</th>\n",
       "      <th>NITRATENAN N+ NITRITENANN (mg/l)</th>\n",
       "      <th>B.O.D. (mg/l)</th>\n",
       "      <th>FECAL COLIFORM (MPN/100ml)</th>\n",
       "      <th>y</th>\n",
       "    </tr>\n",
       "    <tr>\n",
       "      <th>year</th>\n",
       "      <th></th>\n",
       "      <th></th>\n",
       "      <th></th>\n",
       "      <th></th>\n",
       "      <th></th>\n",
       "      <th></th>\n",
       "      <th></th>\n",
       "    </tr>\n",
       "  </thead>\n",
       "  <tbody>\n",
       "    <tr>\n",
       "      <th>2005</th>\n",
       "      <td>0</td>\n",
       "      <td>0.04</td>\n",
       "      <td>0.012</td>\n",
       "      <td>0.000</td>\n",
       "      <td>0.024</td>\n",
       "      <td>0.00</td>\n",
       "      <td>7.6</td>\n",
       "    </tr>\n",
       "    <tr>\n",
       "      <th>2006</th>\n",
       "      <td>0</td>\n",
       "      <td>0.04</td>\n",
       "      <td>0.012</td>\n",
       "      <td>0.000</td>\n",
       "      <td>0.024</td>\n",
       "      <td>0.00</td>\n",
       "      <td>7.6</td>\n",
       "    </tr>\n",
       "    <tr>\n",
       "      <th>2007</th>\n",
       "      <td>0</td>\n",
       "      <td>0.04</td>\n",
       "      <td>0.048</td>\n",
       "      <td>0.000</td>\n",
       "      <td>0.024</td>\n",
       "      <td>0.04</td>\n",
       "      <td>15.2</td>\n",
       "    </tr>\n",
       "    <tr>\n",
       "      <th>2008</th>\n",
       "      <td>0</td>\n",
       "      <td>0.04</td>\n",
       "      <td>0.012</td>\n",
       "      <td>0.036</td>\n",
       "      <td>0.024</td>\n",
       "      <td>0.04</td>\n",
       "      <td>15.2</td>\n",
       "    </tr>\n",
       "    <tr>\n",
       "      <th>2009</th>\n",
       "      <td>0</td>\n",
       "      <td>0.04</td>\n",
       "      <td>0.060</td>\n",
       "      <td>0.036</td>\n",
       "      <td>0.024</td>\n",
       "      <td>0.00</td>\n",
       "      <td>16.0</td>\n",
       "    </tr>\n",
       "    <tr>\n",
       "      <th>2010</th>\n",
       "      <td>0</td>\n",
       "      <td>0.04</td>\n",
       "      <td>0.012</td>\n",
       "      <td>0.036</td>\n",
       "      <td>0.024</td>\n",
       "      <td>0.00</td>\n",
       "      <td>11.2</td>\n",
       "    </tr>\n",
       "    <tr>\n",
       "      <th>2011</th>\n",
       "      <td>0</td>\n",
       "      <td>0.04</td>\n",
       "      <td>0.048</td>\n",
       "      <td>0.144</td>\n",
       "      <td>0.024</td>\n",
       "      <td>0.00</td>\n",
       "      <td>25.6</td>\n",
       "    </tr>\n",
       "    <tr>\n",
       "      <th>2012</th>\n",
       "      <td>0</td>\n",
       "      <td>0.04</td>\n",
       "      <td>0.000</td>\n",
       "      <td>0.144</td>\n",
       "      <td>0.072</td>\n",
       "      <td>0.20</td>\n",
       "      <td>45.6</td>\n",
       "    </tr>\n",
       "    <tr>\n",
       "      <th>2013</th>\n",
       "      <td>0</td>\n",
       "      <td>0.04</td>\n",
       "      <td>0.012</td>\n",
       "      <td>0.144</td>\n",
       "      <td>0.024</td>\n",
       "      <td>0.20</td>\n",
       "      <td>42.0</td>\n",
       "    </tr>\n",
       "    <tr>\n",
       "      <th>2014</th>\n",
       "      <td>0</td>\n",
       "      <td>0.04</td>\n",
       "      <td>0.000</td>\n",
       "      <td>0.144</td>\n",
       "      <td>0.024</td>\n",
       "      <td>0.20</td>\n",
       "      <td>40.8</td>\n",
       "    </tr>\n",
       "  </tbody>\n",
       "</table>\n",
       "</div>"
      ],
      "text/plain": [
       "      PH  D.O. (mg/l)  CONDUCTIVITY (µmhos/cm)  \\\n",
       "year                                             \n",
       "2005   0         0.04                    0.012   \n",
       "2006   0         0.04                    0.012   \n",
       "2007   0         0.04                    0.048   \n",
       "2008   0         0.04                    0.012   \n",
       "2009   0         0.04                    0.060   \n",
       "2010   0         0.04                    0.012   \n",
       "2011   0         0.04                    0.048   \n",
       "2012   0         0.04                    0.000   \n",
       "2013   0         0.04                    0.012   \n",
       "2014   0         0.04                    0.000   \n",
       "\n",
       "      NITRATENAN N+ NITRITENANN (mg/l)  B.O.D. (mg/l)  \\\n",
       "year                                                    \n",
       "2005                             0.000          0.024   \n",
       "2006                             0.000          0.024   \n",
       "2007                             0.000          0.024   \n",
       "2008                             0.036          0.024   \n",
       "2009                             0.036          0.024   \n",
       "2010                             0.036          0.024   \n",
       "2011                             0.144          0.024   \n",
       "2012                             0.144          0.072   \n",
       "2013                             0.144          0.024   \n",
       "2014                             0.144          0.024   \n",
       "\n",
       "      FECAL COLIFORM (MPN/100ml)     y  \n",
       "year                                    \n",
       "2005                        0.00   7.6  \n",
       "2006                        0.00   7.6  \n",
       "2007                        0.04  15.2  \n",
       "2008                        0.04  15.2  \n",
       "2009                        0.00  16.0  \n",
       "2010                        0.00  11.2  \n",
       "2011                        0.00  25.6  \n",
       "2012                        0.20  45.6  \n",
       "2013                        0.20  42.0  \n",
       "2014                        0.20  40.8  "
      ]
     },
     "execution_count": 27,
     "metadata": {},
     "output_type": "execute_result"
    }
   ],
   "source": [
    "yy"
   ]
  },
  {
   "cell_type": "code",
   "execution_count": 28,
   "metadata": {},
   "outputs": [],
   "source": [
    "x=df.index.tolist()"
   ]
  },
  {
   "cell_type": "code",
   "execution_count": 29,
   "metadata": {},
   "outputs": [],
   "source": [
    "x=list(map(lambda z:[z,],x))"
   ]
  },
  {
   "cell_type": "code",
   "execution_count": 39,
   "metadata": {},
   "outputs": [
    {
     "data": {
      "text/plain": [
       "[[2005],\n",
       " [2006],\n",
       " [2007],\n",
       " [2008],\n",
       " [2009],\n",
       " [2010],\n",
       " [2011],\n",
       " [2012],\n",
       " [2013],\n",
       " [2014]]"
      ]
     },
     "execution_count": 39,
     "metadata": {},
     "output_type": "execute_result"
    }
   ],
   "source": [
    "x"
   ]
  },
  {
   "cell_type": "code",
   "execution_count": 38,
   "metadata": {},
   "outputs": [],
   "source": [
    "y=list(y)"
   ]
  },
  {
   "cell_type": "code",
   "execution_count": 40,
   "metadata": {},
   "outputs": [
    {
     "data": {
      "text/plain": [
       "[7.600000000000001,\n",
       " 7.600000000000001,\n",
       " 15.2,\n",
       " 15.2,\n",
       " 16.0,\n",
       " 11.2,\n",
       " 25.6,\n",
       " 45.6,\n",
       " 42.00000000000001,\n",
       " 40.800000000000004]"
      ]
     },
     "execution_count": 40,
     "metadata": {},
     "output_type": "execute_result"
    }
   ],
   "source": [
    "y"
   ]
  },
  {
   "cell_type": "markdown",
   "metadata": {},
   "source": [
    "#### Splitting Data"
   ]
  },
  {
   "cell_type": "code",
   "execution_count": 31,
   "metadata": {},
   "outputs": [],
   "source": [
    "from sklearn.model_selection import train_test_split\n",
    "x_train,x_test,y_train,y_test=train_test_split(x,y,test_size=0.2,random_state=0)"
   ]
  },
  {
   "cell_type": "markdown",
   "metadata": {},
   "source": [
    "### Model Training"
   ]
  },
  {
   "cell_type": "code",
   "execution_count": 32,
   "metadata": {},
   "outputs": [
    {
     "data": {
      "text/plain": [
       "LinearRegression(copy_X=True, fit_intercept=True, n_jobs=None, normalize=False)"
      ]
     },
     "execution_count": 32,
     "metadata": {},
     "output_type": "execute_result"
    }
   ],
   "source": [
    "from sklearn.linear_model import LinearRegression\n",
    "lr= LinearRegression()\n",
    "lr.fit(x_train,y_train)"
   ]
  },
  {
   "cell_type": "markdown",
   "metadata": {},
   "source": [
    "#### Predicting for Test Data"
   ]
  },
  {
   "cell_type": "code",
   "execution_count": 33,
   "metadata": {},
   "outputs": [
    {
     "data": {
      "text/plain": [
       "array([11.11624266, 36.59099804])"
      ]
     },
     "execution_count": 33,
     "metadata": {},
     "output_type": "execute_result"
    }
   ],
   "source": [
    "y_pre=lr.predict(x_test)\n",
    "y_pre"
   ]
  },
  {
   "cell_type": "code",
   "execution_count": 34,
   "metadata": {},
   "outputs": [
    {
     "data": {
      "text/plain": [
       "[<matplotlib.lines.Line2D at 0x2ad98127f88>]"
      ]
     },
     "execution_count": 34,
     "metadata": {},
     "output_type": "execute_result"
    },
    {
     "data": {
      "image/png": "[encoded data removed]",
      "text/plain": [
       "<Figure size 432x288 with 1 Axes>"
      ]
     },
     "metadata": {
      "needs_background": "light"
     },
     "output_type": "display_data"
    }
   ],
   "source": [
    "plt.scatter(x_test,y_test)\n",
    "plt.plot(x_test,y_pre,\"r\")"
   ]
  },
  {
   "cell_type": "code",
   "execution_count": 35,
   "metadata": {},
   "outputs": [
    {
     "data": {
      "text/plain": [
       "0.8720918462618956"
      ]
     },
     "execution_count": 35,
     "metadata": {},
     "output_type": "execute_result"
    }
   ],
   "source": [
    "from sklearn.metrics import r2_score\n",
    "r2_score(y_test,y_pre) "
   ]
  },
  {
   "cell_type": "code",
   "execution_count": 36,
   "metadata": {},
   "outputs": [
    {
     "data": {
      "text/plain": [
       "22.967188085214037"
      ]
     },
     "execution_count": 36,
     "metadata": {},
     "output_type": "execute_result"
    }
   ],
   "source": [
    "from sklearn.metrics import mean_squared_error\n",
    "mean_squared_error(y_test,y_pre)"
   ]
  },
  {
   "cell_type": "code",
   "execution_count": 37,
   "metadata": {},
   "outputs": [
    {
     "data": {
      "text/plain": [
       "['model.save']"
      ]
     },
     "execution_count": 37,
     "metadata": {},
     "output_type": "execute_result"
    }
   ],
   "source": [
    "from joblib import dump\n",
    "dump(lr,'model.save')"
   ]
  },
  {
   "cell_type": "code",
   "execution_count": null,
   "metadata": {},
   "outputs": [],
   "source": []
  }
 ],
 "metadata": {
  "kernelspec": {
   "display_name": "Python 3",
   "language": "python",
   "name": "python3"
  },
  "language_info": {
   "codemirror_mode": {
    "name": "ipython",
    "version": 3
   },
   "file_extension": ".py",
   "mimetype": "text/x-python",
   "name": "python",
   "nbconvert_exporter": "python",
   "pygments_lexer": "ipython3",
   "version": "3.7.6"
  }
 },
 "nbformat": 4,
 "nbformat_minor": 2
}
