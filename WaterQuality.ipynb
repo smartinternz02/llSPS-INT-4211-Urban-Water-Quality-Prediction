{
 "cells": [
  {
   "cell_type": "markdown",
   "metadata": {},
   "source": [
    "# Data Preprocessing"
   ]
  },
  {
   "cell_type": "markdown",
   "metadata": {},
   "source": [
    "### Importing Libraries"
   ]
  },
  {
   "cell_type": "code",
   "execution_count": 1,
   "metadata": {},
   "outputs": [],
   "source": [
    "import numpy as np\n",
    "import pandas as pd\n",
    "import matplotlib.pyplot as plt"
   ]
  },
  {
   "cell_type": "markdown",
   "metadata": {},
   "source": [
    "### Importing Dataset"
   ]
  },
  {
   "cell_type": "code",
   "execution_count": 2,
   "metadata": {},
   "outputs": [
    {
     "data": {
      "text/html": [
       "<div>\n",
       "<style scoped>\n",
       "    .dataframe tbody tr th:only-of-type {\n",
       "        vertical-align: middle;\n",
       "    }\n",
       "\n",
       "    .dataframe tbody tr th {\n",
       "        vertical-align: top;\n",
       "    }\n",
       "\n",
       "    .dataframe thead th {\n",
       "        text-align: right;\n",
       "    }\n",
       "</style>\n",
       "<table border=\"1\" class=\"dataframe\">\n",
       "  <thead>\n",
       "    <tr style=\"text-align: right;\">\n",
       "      <th></th>\n",
       "      <th>STATION CODE</th>\n",
       "      <th>LOCATIONS</th>\n",
       "      <th>STATE</th>\n",
       "      <th>Temp</th>\n",
       "      <th>D.O. (mg/l)</th>\n",
       "      <th>PH</th>\n",
       "      <th>CONDUCTIVITY (µmhos/cm)</th>\n",
       "      <th>B.O.D. (mg/l)</th>\n",
       "      <th>NITRATENAN N+ NITRITENANN (mg/l)</th>\n",
       "      <th>FECAL COLIFORM (MPN/100ml)</th>\n",
       "      <th>TOTAL COLIFORM (MPN/100ml)Mean</th>\n",
       "      <th>year</th>\n",
       "    </tr>\n",
       "  </thead>\n",
       "  <tbody>\n",
       "    <tr>\n",
       "      <th>0</th>\n",
       "      <td>1393</td>\n",
       "      <td>DAMANGANGA AT D/S OF MADHUBAN, DAMAN</td>\n",
       "      <td>DAMAN &amp; DIU</td>\n",
       "      <td>30.6</td>\n",
       "      <td>6.7</td>\n",
       "      <td>7.5</td>\n",
       "      <td>203</td>\n",
       "      <td>NAN</td>\n",
       "      <td>0.1</td>\n",
       "      <td>11</td>\n",
       "      <td>27</td>\n",
       "      <td>2014</td>\n",
       "    </tr>\n",
       "    <tr>\n",
       "      <th>1</th>\n",
       "      <td>1399</td>\n",
       "      <td>ZUARI AT D/S OF PT. WHERE KUMBARJRIA CANAL JOI...</td>\n",
       "      <td>GOA</td>\n",
       "      <td>29.8</td>\n",
       "      <td>5.7</td>\n",
       "      <td>7.2</td>\n",
       "      <td>189</td>\n",
       "      <td>2</td>\n",
       "      <td>0.2</td>\n",
       "      <td>4953</td>\n",
       "      <td>8391</td>\n",
       "      <td>2014</td>\n",
       "    </tr>\n",
       "    <tr>\n",
       "      <th>2</th>\n",
       "      <td>1475</td>\n",
       "      <td>ZUARI AT PANCHAWADI</td>\n",
       "      <td>GOA</td>\n",
       "      <td>29.5</td>\n",
       "      <td>6.3</td>\n",
       "      <td>6.9</td>\n",
       "      <td>179</td>\n",
       "      <td>1.7</td>\n",
       "      <td>0.1</td>\n",
       "      <td>3243</td>\n",
       "      <td>5330</td>\n",
       "      <td>2014</td>\n",
       "    </tr>\n",
       "    <tr>\n",
       "      <th>3</th>\n",
       "      <td>3181</td>\n",
       "      <td>RIVER ZUARI AT BORIM BRIDGE</td>\n",
       "      <td>GOA</td>\n",
       "      <td>29.7</td>\n",
       "      <td>5.8</td>\n",
       "      <td>6.9</td>\n",
       "      <td>64</td>\n",
       "      <td>3.8</td>\n",
       "      <td>0.5</td>\n",
       "      <td>5382</td>\n",
       "      <td>8443</td>\n",
       "      <td>2014</td>\n",
       "    </tr>\n",
       "    <tr>\n",
       "      <th>4</th>\n",
       "      <td>3182</td>\n",
       "      <td>RIVER ZUARI AT MARCAIM JETTY</td>\n",
       "      <td>GOA</td>\n",
       "      <td>29.5</td>\n",
       "      <td>5.8</td>\n",
       "      <td>7.3</td>\n",
       "      <td>83</td>\n",
       "      <td>1.9</td>\n",
       "      <td>0.4</td>\n",
       "      <td>3428</td>\n",
       "      <td>5500</td>\n",
       "      <td>2014</td>\n",
       "    </tr>\n",
       "    <tr>\n",
       "      <th>...</th>\n",
       "      <td>...</td>\n",
       "      <td>...</td>\n",
       "      <td>...</td>\n",
       "      <td>...</td>\n",
       "      <td>...</td>\n",
       "      <td>...</td>\n",
       "      <td>...</td>\n",
       "      <td>...</td>\n",
       "      <td>...</td>\n",
       "      <td>...</td>\n",
       "      <td>...</td>\n",
       "      <td>...</td>\n",
       "    </tr>\n",
       "    <tr>\n",
       "      <th>1986</th>\n",
       "      <td>1330</td>\n",
       "      <td>TAMBIRAPARANI AT ARUMUGANERI, TAMILNADU</td>\n",
       "      <td>TAMILNADU</td>\n",
       "      <td>NAN</td>\n",
       "      <td>7.9</td>\n",
       "      <td>738</td>\n",
       "      <td>7.2</td>\n",
       "      <td>2.7</td>\n",
       "      <td>0.518</td>\n",
       "      <td>0.518</td>\n",
       "      <td>202</td>\n",
       "      <td>2003</td>\n",
       "    </tr>\n",
       "    <tr>\n",
       "      <th>1987</th>\n",
       "      <td>1450</td>\n",
       "      <td>PALAR AT VANIYAMBADI WATER SUPPLY HEAD WORK, T...</td>\n",
       "      <td>TAMILNADU</td>\n",
       "      <td>29</td>\n",
       "      <td>7.5</td>\n",
       "      <td>585</td>\n",
       "      <td>6.3</td>\n",
       "      <td>2.6</td>\n",
       "      <td>0.155</td>\n",
       "      <td>0.155</td>\n",
       "      <td>315</td>\n",
       "      <td>2003</td>\n",
       "    </tr>\n",
       "    <tr>\n",
       "      <th>1988</th>\n",
       "      <td>1403</td>\n",
       "      <td>GUMTI AT U/S SOUTH TRIPURA,TRIPURA</td>\n",
       "      <td>TRIPUR</td>\n",
       "      <td>28</td>\n",
       "      <td>7.6</td>\n",
       "      <td>98</td>\n",
       "      <td>6.2</td>\n",
       "      <td>1.2</td>\n",
       "      <td>NAN</td>\n",
       "      <td>NAN</td>\n",
       "      <td>570</td>\n",
       "      <td>2003</td>\n",
       "    </tr>\n",
       "    <tr>\n",
       "      <th>1989</th>\n",
       "      <td>1404</td>\n",
       "      <td>GUMTI AT D/S SOUTH TRIPURA, TRIPURA</td>\n",
       "      <td>TRIPUR</td>\n",
       "      <td>28</td>\n",
       "      <td>7.7</td>\n",
       "      <td>91</td>\n",
       "      <td>6.5</td>\n",
       "      <td>1.3</td>\n",
       "      <td>NAN</td>\n",
       "      <td>NAN</td>\n",
       "      <td>562</td>\n",
       "      <td>2003</td>\n",
       "    </tr>\n",
       "    <tr>\n",
       "      <th>1990</th>\n",
       "      <td>1726</td>\n",
       "      <td>CHANDRAPUR, AGARTALA D/S OF HAORA RIVER, TRIPURA</td>\n",
       "      <td>TRIPUR</td>\n",
       "      <td>29</td>\n",
       "      <td>7.6</td>\n",
       "      <td>110</td>\n",
       "      <td>5.7</td>\n",
       "      <td>1.1</td>\n",
       "      <td>NAN</td>\n",
       "      <td>NAN</td>\n",
       "      <td>546</td>\n",
       "      <td>2003</td>\n",
       "    </tr>\n",
       "  </tbody>\n",
       "</table>\n",
       "<p>1991 rows × 12 columns</p>\n",
       "</div>"
      ],
      "text/plain": [
       "     STATION CODE                                          LOCATIONS  \\\n",
       "0            1393               DAMANGANGA AT D/S OF MADHUBAN, DAMAN   \n",
       "1            1399  ZUARI AT D/S OF PT. WHERE KUMBARJRIA CANAL JOI...   \n",
       "2            1475                                ZUARI AT PANCHAWADI   \n",
       "3            3181                        RIVER ZUARI AT BORIM BRIDGE   \n",
       "4            3182                       RIVER ZUARI AT MARCAIM JETTY   \n",
       "...           ...                                                ...   \n",
       "1986         1330            TAMBIRAPARANI AT ARUMUGANERI, TAMILNADU   \n",
       "1987         1450  PALAR AT VANIYAMBADI WATER SUPPLY HEAD WORK, T...   \n",
       "1988         1403                 GUMTI AT U/S SOUTH TRIPURA,TRIPURA   \n",
       "1989         1404                GUMTI AT D/S SOUTH TRIPURA, TRIPURA   \n",
       "1990         1726   CHANDRAPUR, AGARTALA D/S OF HAORA RIVER, TRIPURA   \n",
       "\n",
       "            STATE  Temp D.O. (mg/l)   PH CONDUCTIVITY (µmhos/cm)  \\\n",
       "0     DAMAN & DIU  30.6         6.7  7.5                     203   \n",
       "1             GOA  29.8         5.7  7.2                     189   \n",
       "2             GOA  29.5         6.3  6.9                     179   \n",
       "3             GOA  29.7         5.8  6.9                      64   \n",
       "4             GOA  29.5         5.8  7.3                      83   \n",
       "...           ...   ...         ...  ...                     ...   \n",
       "1986    TAMILNADU   NAN         7.9  738                     7.2   \n",
       "1987    TAMILNADU    29         7.5  585                     6.3   \n",
       "1988       TRIPUR    28         7.6   98                     6.2   \n",
       "1989       TRIPUR    28         7.7   91                     6.5   \n",
       "1990       TRIPUR    29         7.6  110                     5.7   \n",
       "\n",
       "     B.O.D. (mg/l) NITRATENAN N+ NITRITENANN (mg/l)  \\\n",
       "0              NAN                              0.1   \n",
       "1                2                              0.2   \n",
       "2              1.7                              0.1   \n",
       "3              3.8                              0.5   \n",
       "4              1.9                              0.4   \n",
       "...            ...                              ...   \n",
       "1986           2.7                            0.518   \n",
       "1987           2.6                            0.155   \n",
       "1988           1.2                              NAN   \n",
       "1989           1.3                              NAN   \n",
       "1990           1.1                              NAN   \n",
       "\n",
       "     FECAL COLIFORM (MPN/100ml) TOTAL COLIFORM (MPN/100ml)Mean  year  \n",
       "0                            11                             27  2014  \n",
       "1                          4953                           8391  2014  \n",
       "2                          3243                           5330  2014  \n",
       "3                          5382                           8443  2014  \n",
       "4                          3428                           5500  2014  \n",
       "...                         ...                            ...   ...  \n",
       "1986                      0.518                            202  2003  \n",
       "1987                      0.155                            315  2003  \n",
       "1988                        NAN                            570  2003  \n",
       "1989                        NAN                            562  2003  \n",
       "1990                        NAN                            546  2003  \n",
       "\n",
       "[1991 rows x 12 columns]"
      ]
     },
     "execution_count": 2,
     "metadata": {},
     "output_type": "execute_result"
    }
   ],
   "source": [
    "dataset =pd.read_csv('water_data.csv',encoding='unicode_escape')\n",
    "dataset"
   ]
  },
  {
   "cell_type": "code",
   "execution_count": 3,
   "metadata": {},
   "outputs": [
    {
     "data": {
      "text/html": [
       "<div>\n",
       "<style scoped>\n",
       "    .dataframe tbody tr th:only-of-type {\n",
       "        vertical-align: middle;\n",
       "    }\n",
       "\n",
       "    .dataframe tbody tr th {\n",
       "        vertical-align: top;\n",
       "    }\n",
       "\n",
       "    .dataframe thead th {\n",
       "        text-align: right;\n",
       "    }\n",
       "</style>\n",
       "<table border=\"1\" class=\"dataframe\">\n",
       "  <thead>\n",
       "    <tr style=\"text-align: right;\">\n",
       "      <th></th>\n",
       "      <th>STATE</th>\n",
       "      <th>Temp</th>\n",
       "      <th>D.O. (mg/l)</th>\n",
       "      <th>PH</th>\n",
       "      <th>CONDUCTIVITY (µmhos/cm)</th>\n",
       "      <th>B.O.D. (mg/l)</th>\n",
       "      <th>NITRATENAN N+ NITRITENANN (mg/l)</th>\n",
       "      <th>FECAL COLIFORM (MPN/100ml)</th>\n",
       "      <th>TOTAL COLIFORM (MPN/100ml)Mean</th>\n",
       "      <th>year</th>\n",
       "    </tr>\n",
       "  </thead>\n",
       "  <tbody>\n",
       "    <tr>\n",
       "      <th>0</th>\n",
       "      <td>DAMAN &amp; DIU</td>\n",
       "      <td>30.6</td>\n",
       "      <td>6.7</td>\n",
       "      <td>7.5</td>\n",
       "      <td>203</td>\n",
       "      <td>NAN</td>\n",
       "      <td>0.1</td>\n",
       "      <td>11</td>\n",
       "      <td>27</td>\n",
       "      <td>2014</td>\n",
       "    </tr>\n",
       "    <tr>\n",
       "      <th>1</th>\n",
       "      <td>GOA</td>\n",
       "      <td>29.8</td>\n",
       "      <td>5.7</td>\n",
       "      <td>7.2</td>\n",
       "      <td>189</td>\n",
       "      <td>2</td>\n",
       "      <td>0.2</td>\n",
       "      <td>4953</td>\n",
       "      <td>8391</td>\n",
       "      <td>2014</td>\n",
       "    </tr>\n",
       "    <tr>\n",
       "      <th>2</th>\n",
       "      <td>GOA</td>\n",
       "      <td>29.5</td>\n",
       "      <td>6.3</td>\n",
       "      <td>6.9</td>\n",
       "      <td>179</td>\n",
       "      <td>1.7</td>\n",
       "      <td>0.1</td>\n",
       "      <td>3243</td>\n",
       "      <td>5330</td>\n",
       "      <td>2014</td>\n",
       "    </tr>\n",
       "    <tr>\n",
       "      <th>3</th>\n",
       "      <td>GOA</td>\n",
       "      <td>29.7</td>\n",
       "      <td>5.8</td>\n",
       "      <td>6.9</td>\n",
       "      <td>64</td>\n",
       "      <td>3.8</td>\n",
       "      <td>0.5</td>\n",
       "      <td>5382</td>\n",
       "      <td>8443</td>\n",
       "      <td>2014</td>\n",
       "    </tr>\n",
       "    <tr>\n",
       "      <th>4</th>\n",
       "      <td>GOA</td>\n",
       "      <td>29.5</td>\n",
       "      <td>5.8</td>\n",
       "      <td>7.3</td>\n",
       "      <td>83</td>\n",
       "      <td>1.9</td>\n",
       "      <td>0.4</td>\n",
       "      <td>3428</td>\n",
       "      <td>5500</td>\n",
       "      <td>2014</td>\n",
       "    </tr>\n",
       "    <tr>\n",
       "      <th>...</th>\n",
       "      <td>...</td>\n",
       "      <td>...</td>\n",
       "      <td>...</td>\n",
       "      <td>...</td>\n",
       "      <td>...</td>\n",
       "      <td>...</td>\n",
       "      <td>...</td>\n",
       "      <td>...</td>\n",
       "      <td>...</td>\n",
       "      <td>...</td>\n",
       "    </tr>\n",
       "    <tr>\n",
       "      <th>1986</th>\n",
       "      <td>TAMILNADU</td>\n",
       "      <td>NAN</td>\n",
       "      <td>7.9</td>\n",
       "      <td>738</td>\n",
       "      <td>7.2</td>\n",
       "      <td>2.7</td>\n",
       "      <td>0.518</td>\n",
       "      <td>0.518</td>\n",
       "      <td>202</td>\n",
       "      <td>2003</td>\n",
       "    </tr>\n",
       "    <tr>\n",
       "      <th>1987</th>\n",
       "      <td>TAMILNADU</td>\n",
       "      <td>29</td>\n",
       "      <td>7.5</td>\n",
       "      <td>585</td>\n",
       "      <td>6.3</td>\n",
       "      <td>2.6</td>\n",
       "      <td>0.155</td>\n",
       "      <td>0.155</td>\n",
       "      <td>315</td>\n",
       "      <td>2003</td>\n",
       "    </tr>\n",
       "    <tr>\n",
       "      <th>1988</th>\n",
       "      <td>TRIPUR</td>\n",
       "      <td>28</td>\n",
       "      <td>7.6</td>\n",
       "      <td>98</td>\n",
       "      <td>6.2</td>\n",
       "      <td>1.2</td>\n",
       "      <td>NAN</td>\n",
       "      <td>NAN</td>\n",
       "      <td>570</td>\n",
       "      <td>2003</td>\n",
       "    </tr>\n",
       "    <tr>\n",
       "      <th>1989</th>\n",
       "      <td>TRIPUR</td>\n",
       "      <td>28</td>\n",
       "      <td>7.7</td>\n",
       "      <td>91</td>\n",
       "      <td>6.5</td>\n",
       "      <td>1.3</td>\n",
       "      <td>NAN</td>\n",
       "      <td>NAN</td>\n",
       "      <td>562</td>\n",
       "      <td>2003</td>\n",
       "    </tr>\n",
       "    <tr>\n",
       "      <th>1990</th>\n",
       "      <td>TRIPUR</td>\n",
       "      <td>29</td>\n",
       "      <td>7.6</td>\n",
       "      <td>110</td>\n",
       "      <td>5.7</td>\n",
       "      <td>1.1</td>\n",
       "      <td>NAN</td>\n",
       "      <td>NAN</td>\n",
       "      <td>546</td>\n",
       "      <td>2003</td>\n",
       "    </tr>\n",
       "  </tbody>\n",
       "</table>\n",
       "<p>1991 rows × 10 columns</p>\n",
       "</div>"
      ],
      "text/plain": [
       "            STATE  Temp D.O. (mg/l)   PH CONDUCTIVITY (µmhos/cm)  \\\n",
       "0     DAMAN & DIU  30.6         6.7  7.5                     203   \n",
       "1             GOA  29.8         5.7  7.2                     189   \n",
       "2             GOA  29.5         6.3  6.9                     179   \n",
       "3             GOA  29.7         5.8  6.9                      64   \n",
       "4             GOA  29.5         5.8  7.3                      83   \n",
       "...           ...   ...         ...  ...                     ...   \n",
       "1986    TAMILNADU   NAN         7.9  738                     7.2   \n",
       "1987    TAMILNADU    29         7.5  585                     6.3   \n",
       "1988       TRIPUR    28         7.6   98                     6.2   \n",
       "1989       TRIPUR    28         7.7   91                     6.5   \n",
       "1990       TRIPUR    29         7.6  110                     5.7   \n",
       "\n",
       "     B.O.D. (mg/l) NITRATENAN N+ NITRITENANN (mg/l)  \\\n",
       "0              NAN                              0.1   \n",
       "1                2                              0.2   \n",
       "2              1.7                              0.1   \n",
       "3              3.8                              0.5   \n",
       "4              1.9                              0.4   \n",
       "...            ...                              ...   \n",
       "1986           2.7                            0.518   \n",
       "1987           2.6                            0.155   \n",
       "1988           1.2                              NAN   \n",
       "1989           1.3                              NAN   \n",
       "1990           1.1                              NAN   \n",
       "\n",
       "     FECAL COLIFORM (MPN/100ml) TOTAL COLIFORM (MPN/100ml)Mean  year  \n",
       "0                            11                             27  2014  \n",
       "1                          4953                           8391  2014  \n",
       "2                          3243                           5330  2014  \n",
       "3                          5382                           8443  2014  \n",
       "4                          3428                           5500  2014  \n",
       "...                         ...                            ...   ...  \n",
       "1986                      0.518                            202  2003  \n",
       "1987                      0.155                            315  2003  \n",
       "1988                        NAN                            570  2003  \n",
       "1989                        NAN                            562  2003  \n",
       "1990                        NAN                            546  2003  \n",
       "\n",
       "[1991 rows x 10 columns]"
      ]
     },
     "execution_count": 3,
     "metadata": {},
     "output_type": "execute_result"
    }
   ],
   "source": [
    "dataset.drop(['STATION CODE','LOCATIONS'],axis=1,inplace=True)\n",
    "dataset"
   ]
  },
  {
   "cell_type": "code",
   "execution_count": 4,
   "metadata": {},
   "outputs": [],
   "source": [
    "#dataset[\"STATE\"]= dataset[\"STATE\"].apply(lambda x: \"\" if x==\"NAN\" else x)"
   ]
  },
  {
   "cell_type": "code",
   "execution_count": 5,
   "metadata": {},
   "outputs": [],
   "source": [
    "#dataset[\"STATE\"]\n"
   ]
  },
  {
   "cell_type": "code",
   "execution_count": 6,
   "metadata": {},
   "outputs": [
    {
     "data": {
      "text/plain": [
       "STATE                               False\n",
       "Temp                                False\n",
       "D.O. (mg/l)                         False\n",
       "PH                                  False\n",
       "CONDUCTIVITY (µmhos/cm)             False\n",
       "B.O.D. (mg/l)                       False\n",
       "NITRATENAN N+ NITRITENANN (mg/l)    False\n",
       "FECAL COLIFORM (MPN/100ml)          False\n",
       "TOTAL COLIFORM (MPN/100ml)Mean      False\n",
       "year                                False\n",
       "dtype: bool"
      ]
     },
     "execution_count": 6,
     "metadata": {},
     "output_type": "execute_result"
    }
   ],
   "source": [
    "dataset.isnull().any()"
   ]
  },
  {
   "cell_type": "code",
   "execution_count": 7,
   "metadata": {
    "scrolled": true
   },
   "outputs": [
    {
     "data": {
      "text/plain": [
       "KERALA                                                                      413\n",
       "NAN                                                                         301\n",
       "MAHARASHTRA                                                                 177\n",
       "GOA                                                                         147\n",
       "MEGHALAYA                                                                   146\n",
       "                                                                           ... \n",
       "R KADAMBAYAR AT BRAHMAPURAM                                                   1\n",
       "GHAGGAR BEFORE OTTU WEIR (BEFORE MIXING OF SATLUJ CANAL WATER) (HARYANA)      1\n",
       "IRIL LILONG, MANIPUR                                                          1\n",
       "ULHAS AT U/S OF BADLAPUR, MAHARASHTRA                                         1\n",
       "BHADAR D/S JETPUR VILL. AFTER CONF. OF W.WATER FROM JETPUR CITY,GUJARAT       1\n",
       "Name: STATE, Length: 205, dtype: int64"
      ]
     },
     "execution_count": 7,
     "metadata": {},
     "output_type": "execute_result"
    }
   ],
   "source": [
    "dataset['STATE'].value_counts()"
   ]
  },
  {
   "cell_type": "code",
   "execution_count": 8,
   "metadata": {},
   "outputs": [
    {
     "data": {
      "text/html": [
       "<div>\n",
       "<style scoped>\n",
       "    .dataframe tbody tr th:only-of-type {\n",
       "        vertical-align: middle;\n",
       "    }\n",
       "\n",
       "    .dataframe tbody tr th {\n",
       "        vertical-align: top;\n",
       "    }\n",
       "\n",
       "    .dataframe thead th {\n",
       "        text-align: right;\n",
       "    }\n",
       "</style>\n",
       "<table border=\"1\" class=\"dataframe\">\n",
       "  <thead>\n",
       "    <tr style=\"text-align: right;\">\n",
       "      <th></th>\n",
       "      <th>STATE</th>\n",
       "      <th>Temp</th>\n",
       "      <th>D.O. (mg/l)</th>\n",
       "      <th>PH</th>\n",
       "      <th>CONDUCTIVITY (µmhos/cm)</th>\n",
       "      <th>B.O.D. (mg/l)</th>\n",
       "      <th>NITRATENAN N+ NITRITENANN (mg/l)</th>\n",
       "      <th>FECAL COLIFORM (MPN/100ml)</th>\n",
       "      <th>TOTAL COLIFORM (MPN/100ml)Mean</th>\n",
       "      <th>year</th>\n",
       "    </tr>\n",
       "  </thead>\n",
       "  <tbody>\n",
       "    <tr>\n",
       "      <th>0</th>\n",
       "      <td>DIU</td>\n",
       "      <td>30.6</td>\n",
       "      <td>6.7</td>\n",
       "      <td>7.5</td>\n",
       "      <td>203</td>\n",
       "      <td>NAN</td>\n",
       "      <td>0.1</td>\n",
       "      <td>11</td>\n",
       "      <td>27</td>\n",
       "      <td>2014</td>\n",
       "    </tr>\n",
       "    <tr>\n",
       "      <th>1</th>\n",
       "      <td>GOA</td>\n",
       "      <td>29.8</td>\n",
       "      <td>5.7</td>\n",
       "      <td>7.2</td>\n",
       "      <td>189</td>\n",
       "      <td>2</td>\n",
       "      <td>0.2</td>\n",
       "      <td>4953</td>\n",
       "      <td>8391</td>\n",
       "      <td>2014</td>\n",
       "    </tr>\n",
       "    <tr>\n",
       "      <th>2</th>\n",
       "      <td>GOA</td>\n",
       "      <td>29.5</td>\n",
       "      <td>6.3</td>\n",
       "      <td>6.9</td>\n",
       "      <td>179</td>\n",
       "      <td>1.7</td>\n",
       "      <td>0.1</td>\n",
       "      <td>3243</td>\n",
       "      <td>5330</td>\n",
       "      <td>2014</td>\n",
       "    </tr>\n",
       "    <tr>\n",
       "      <th>3</th>\n",
       "      <td>GOA</td>\n",
       "      <td>29.7</td>\n",
       "      <td>5.8</td>\n",
       "      <td>6.9</td>\n",
       "      <td>64</td>\n",
       "      <td>3.8</td>\n",
       "      <td>0.5</td>\n",
       "      <td>5382</td>\n",
       "      <td>8443</td>\n",
       "      <td>2014</td>\n",
       "    </tr>\n",
       "    <tr>\n",
       "      <th>4</th>\n",
       "      <td>GOA</td>\n",
       "      <td>29.5</td>\n",
       "      <td>5.8</td>\n",
       "      <td>7.3</td>\n",
       "      <td>83</td>\n",
       "      <td>1.9</td>\n",
       "      <td>0.4</td>\n",
       "      <td>3428</td>\n",
       "      <td>5500</td>\n",
       "      <td>2014</td>\n",
       "    </tr>\n",
       "    <tr>\n",
       "      <th>...</th>\n",
       "      <td>...</td>\n",
       "      <td>...</td>\n",
       "      <td>...</td>\n",
       "      <td>...</td>\n",
       "      <td>...</td>\n",
       "      <td>...</td>\n",
       "      <td>...</td>\n",
       "      <td>...</td>\n",
       "      <td>...</td>\n",
       "      <td>...</td>\n",
       "    </tr>\n",
       "    <tr>\n",
       "      <th>1986</th>\n",
       "      <td>TAMILNADU</td>\n",
       "      <td>NAN</td>\n",
       "      <td>7.9</td>\n",
       "      <td>738</td>\n",
       "      <td>7.2</td>\n",
       "      <td>2.7</td>\n",
       "      <td>0.518</td>\n",
       "      <td>0.518</td>\n",
       "      <td>202</td>\n",
       "      <td>2003</td>\n",
       "    </tr>\n",
       "    <tr>\n",
       "      <th>1987</th>\n",
       "      <td>TAMILNADU</td>\n",
       "      <td>29</td>\n",
       "      <td>7.5</td>\n",
       "      <td>585</td>\n",
       "      <td>6.3</td>\n",
       "      <td>2.6</td>\n",
       "      <td>0.155</td>\n",
       "      <td>0.155</td>\n",
       "      <td>315</td>\n",
       "      <td>2003</td>\n",
       "    </tr>\n",
       "    <tr>\n",
       "      <th>1988</th>\n",
       "      <td>TRIPUR</td>\n",
       "      <td>28</td>\n",
       "      <td>7.6</td>\n",
       "      <td>98</td>\n",
       "      <td>6.2</td>\n",
       "      <td>1.2</td>\n",
       "      <td>NAN</td>\n",
       "      <td>NAN</td>\n",
       "      <td>570</td>\n",
       "      <td>2003</td>\n",
       "    </tr>\n",
       "    <tr>\n",
       "      <th>1989</th>\n",
       "      <td>TRIPUR</td>\n",
       "      <td>28</td>\n",
       "      <td>7.7</td>\n",
       "      <td>91</td>\n",
       "      <td>6.5</td>\n",
       "      <td>1.3</td>\n",
       "      <td>NAN</td>\n",
       "      <td>NAN</td>\n",
       "      <td>562</td>\n",
       "      <td>2003</td>\n",
       "    </tr>\n",
       "    <tr>\n",
       "      <th>1990</th>\n",
       "      <td>TRIPUR</td>\n",
       "      <td>29</td>\n",
       "      <td>7.6</td>\n",
       "      <td>110</td>\n",
       "      <td>5.7</td>\n",
       "      <td>1.1</td>\n",
       "      <td>NAN</td>\n",
       "      <td>NAN</td>\n",
       "      <td>546</td>\n",
       "      <td>2003</td>\n",
       "    </tr>\n",
       "  </tbody>\n",
       "</table>\n",
       "<p>1991 rows × 10 columns</p>\n",
       "</div>"
      ],
      "text/plain": [
       "          STATE  Temp D.O. (mg/l)   PH CONDUCTIVITY (µmhos/cm) B.O.D. (mg/l)  \\\n",
       "0           DIU  30.6         6.7  7.5                     203           NAN   \n",
       "1           GOA  29.8         5.7  7.2                     189             2   \n",
       "2           GOA  29.5         6.3  6.9                     179           1.7   \n",
       "3           GOA  29.7         5.8  6.9                      64           3.8   \n",
       "4           GOA  29.5         5.8  7.3                      83           1.9   \n",
       "...         ...   ...         ...  ...                     ...           ...   \n",
       "1986  TAMILNADU   NAN         7.9  738                     7.2           2.7   \n",
       "1987  TAMILNADU    29         7.5  585                     6.3           2.6   \n",
       "1988     TRIPUR    28         7.6   98                     6.2           1.2   \n",
       "1989     TRIPUR    28         7.7   91                     6.5           1.3   \n",
       "1990     TRIPUR    29         7.6  110                     5.7           1.1   \n",
       "\n",
       "     NITRATENAN N+ NITRITENANN (mg/l) FECAL COLIFORM (MPN/100ml)  \\\n",
       "0                                 0.1                         11   \n",
       "1                                 0.2                       4953   \n",
       "2                                 0.1                       3243   \n",
       "3                                 0.5                       5382   \n",
       "4                                 0.4                       3428   \n",
       "...                               ...                        ...   \n",
       "1986                            0.518                      0.518   \n",
       "1987                            0.155                      0.155   \n",
       "1988                              NAN                        NAN   \n",
       "1989                              NAN                        NAN   \n",
       "1990                              NAN                        NAN   \n",
       "\n",
       "     TOTAL COLIFORM (MPN/100ml)Mean  year  \n",
       "0                                27  2014  \n",
       "1                              8391  2014  \n",
       "2                              5330  2014  \n",
       "3                              8443  2014  \n",
       "4                              5500  2014  \n",
       "...                             ...   ...  \n",
       "1986                            202  2003  \n",
       "1987                            315  2003  \n",
       "1988                            570  2003  \n",
       "1989                            562  2003  \n",
       "1990                            546  2003  \n",
       "\n",
       "[1991 rows x 10 columns]"
      ]
     },
     "execution_count": 8,
     "metadata": {},
     "output_type": "execute_result"
    }
   ],
   "source": [
    "s=dataset[\"STATE\"]\n",
    "dataset[\"STATE\"]=s.apply(lambda x: x.split(' ')[-1])\n",
    "\n",
    "dataset"
   ]
  },
  {
   "cell_type": "code",
   "execution_count": 9,
   "metadata": {},
   "outputs": [
    {
     "data": {
      "text/plain": [
       "KERALA          441\n",
       "NAN             301\n",
       "MAHARASHTRA     184\n",
       "GOA             156\n",
       "MEGHALAYA       150\n",
       "               ... \n",
       "WORKS.            1\n",
       "HIGHWAY           1\n",
       "NELLIMUKAL        1\n",
       "ROAD,HARYANA      1\n",
       "WIER,GUJARAT      1\n",
       "Name: STATE, Length: 97, dtype: int64"
      ]
     },
     "execution_count": 9,
     "metadata": {},
     "output_type": "execute_result"
    }
   ],
   "source": [
    "dataset['STATE'].value_counts()"
   ]
  },
  {
   "cell_type": "markdown",
   "metadata": {},
   "source": [
    "converting value columns from string to int"
   ]
  },
  {
   "cell_type": "code",
   "execution_count": 10,
   "metadata": {},
   "outputs": [
    {
     "data": {
      "text/plain": [
       "STATE                               object\n",
       "Temp                                object\n",
       "D.O. (mg/l)                         object\n",
       "PH                                  object\n",
       "CONDUCTIVITY (µmhos/cm)             object\n",
       "B.O.D. (mg/l)                       object\n",
       "NITRATENAN N+ NITRITENANN (mg/l)    object\n",
       "FECAL COLIFORM (MPN/100ml)          object\n",
       "TOTAL COLIFORM (MPN/100ml)Mean      object\n",
       "year                                 int64\n",
       "dtype: object"
      ]
     },
     "execution_count": 10,
     "metadata": {},
     "output_type": "execute_result"
    }
   ],
   "source": [
    "dataset.dtypes"
   ]
  },
  {
   "cell_type": "code",
   "execution_count": 11,
   "metadata": {},
   "outputs": [
    {
     "data": {
      "text/plain": [
       "0       30.6\n",
       "1       29.8\n",
       "2       29.5\n",
       "3       29.7\n",
       "4       29.5\n",
       "        ... \n",
       "1986     NaN\n",
       "1987    29.0\n",
       "1988    28.0\n",
       "1989    28.0\n",
       "1990    29.0\n",
       "Name: Temp, Length: 1991, dtype: float64"
      ]
     },
     "execution_count": 11,
     "metadata": {},
     "output_type": "execute_result"
    }
   ],
   "source": [
    "dataset['Temp']=pd.to_numeric(dataset['Temp'],errors='coerce')\n",
    "dataset['Temp']"
   ]
  },
  {
   "cell_type": "code",
   "execution_count": 12,
   "metadata": {},
   "outputs": [
    {
     "data": {
      "text/plain": [
       "0       6.7\n",
       "1       5.7\n",
       "2       6.3\n",
       "3       5.8\n",
       "4       5.8\n",
       "       ... \n",
       "1986    7.9\n",
       "1987    7.5\n",
       "1988    7.6\n",
       "1989    7.7\n",
       "1990    7.6\n",
       "Name: D.O. (mg/l), Length: 1991, dtype: float64"
      ]
     },
     "execution_count": 12,
     "metadata": {},
     "output_type": "execute_result"
    }
   ],
   "source": [
    "dataset['D.O. (mg/l)']=pd.to_numeric(dataset['D.O. (mg/l)'],errors='coerce')\n",
    "dataset['D.O. (mg/l)']"
   ]
  },
  {
   "cell_type": "code",
   "execution_count": 13,
   "metadata": {},
   "outputs": [
    {
     "data": {
      "text/plain": [
       "0         7.5\n",
       "1         7.2\n",
       "2         6.9\n",
       "3         6.9\n",
       "4         7.3\n",
       "        ...  \n",
       "1986    738.0\n",
       "1987    585.0\n",
       "1988     98.0\n",
       "1989     91.0\n",
       "1990    110.0\n",
       "Name: PH, Length: 1991, dtype: float64"
      ]
     },
     "execution_count": 13,
     "metadata": {},
     "output_type": "execute_result"
    }
   ],
   "source": [
    "dataset['PH']=pd.to_numeric(dataset['PH'],errors='coerce')\n",
    "dataset['PH']"
   ]
  },
  {
   "cell_type": "code",
   "execution_count": 14,
   "metadata": {},
   "outputs": [
    {
     "data": {
      "text/plain": [
       "0       203.0\n",
       "1       189.0\n",
       "2       179.0\n",
       "3        64.0\n",
       "4        83.0\n",
       "        ...  \n",
       "1986      7.2\n",
       "1987      6.3\n",
       "1988      6.2\n",
       "1989      6.5\n",
       "1990      5.7\n",
       "Name: CONDUCTIVITY (µmhos/cm), Length: 1991, dtype: float64"
      ]
     },
     "execution_count": 14,
     "metadata": {},
     "output_type": "execute_result"
    }
   ],
   "source": [
    "dataset['CONDUCTIVITY (µmhos/cm)']=pd.to_numeric(dataset['CONDUCTIVITY (µmhos/cm)'],errors='coerce')\n",
    "dataset['CONDUCTIVITY (µmhos/cm)']"
   ]
  },
  {
   "cell_type": "code",
   "execution_count": 15,
   "metadata": {},
   "outputs": [
    {
     "data": {
      "text/plain": [
       "0       NaN\n",
       "1       2.0\n",
       "2       1.7\n",
       "3       3.8\n",
       "4       1.9\n",
       "       ... \n",
       "1986    2.7\n",
       "1987    2.6\n",
       "1988    1.2\n",
       "1989    1.3\n",
       "1990    1.1\n",
       "Name: B.O.D. (mg/l), Length: 1991, dtype: float64"
      ]
     },
     "execution_count": 15,
     "metadata": {},
     "output_type": "execute_result"
    }
   ],
   "source": [
    "dataset['B.O.D. (mg/l)']=pd.to_numeric(dataset['B.O.D. (mg/l)'],errors='coerce')\n",
    "dataset['B.O.D. (mg/l)']"
   ]
  },
  {
   "cell_type": "code",
   "execution_count": 16,
   "metadata": {},
   "outputs": [
    {
     "data": {
      "text/plain": [
       "0       0.100\n",
       "1       0.200\n",
       "2       0.100\n",
       "3       0.500\n",
       "4       0.400\n",
       "        ...  \n",
       "1986    0.518\n",
       "1987    0.155\n",
       "1988      NaN\n",
       "1989      NaN\n",
       "1990      NaN\n",
       "Name: NITRATENAN N+ NITRITENANN (mg/l), Length: 1991, dtype: float64"
      ]
     },
     "execution_count": 16,
     "metadata": {},
     "output_type": "execute_result"
    }
   ],
   "source": [
    "dataset['NITRATENAN N+ NITRITENANN (mg/l)']=pd.to_numeric(dataset['NITRATENAN N+ NITRITENANN (mg/l)'],errors='coerce')\n",
    "dataset['NITRATENAN N+ NITRITENANN (mg/l)']"
   ]
  },
  {
   "cell_type": "code",
   "execution_count": 17,
   "metadata": {},
   "outputs": [
    {
     "data": {
      "text/plain": [
       "0         11.000\n",
       "1       4953.000\n",
       "2       3243.000\n",
       "3       5382.000\n",
       "4       3428.000\n",
       "          ...   \n",
       "1986       0.518\n",
       "1987       0.155\n",
       "1988         NaN\n",
       "1989         NaN\n",
       "1990         NaN\n",
       "Name: FECAL COLIFORM (MPN/100ml), Length: 1991, dtype: float64"
      ]
     },
     "execution_count": 17,
     "metadata": {},
     "output_type": "execute_result"
    }
   ],
   "source": [
    "dataset['FECAL COLIFORM (MPN/100ml)']=pd.to_numeric(dataset['FECAL COLIFORM (MPN/100ml)'],errors='coerce')\n",
    "dataset['FECAL COLIFORM (MPN/100ml)']"
   ]
  },
  {
   "cell_type": "code",
   "execution_count": 18,
   "metadata": {},
   "outputs": [
    {
     "data": {
      "text/plain": [
       "0         27.0\n",
       "1       8391.0\n",
       "2       5330.0\n",
       "3       8443.0\n",
       "4       5500.0\n",
       "         ...  \n",
       "1986     202.0\n",
       "1987     315.0\n",
       "1988     570.0\n",
       "1989     562.0\n",
       "1990     546.0\n",
       "Name: TOTAL COLIFORM (MPN/100ml)Mean, Length: 1991, dtype: float64"
      ]
     },
     "execution_count": 18,
     "metadata": {},
     "output_type": "execute_result"
    }
   ],
   "source": [
    "dataset['TOTAL COLIFORM (MPN/100ml)Mean']=pd.to_numeric(dataset['TOTAL COLIFORM (MPN/100ml)Mean'],errors='coerce')\n",
    "dataset['TOTAL COLIFORM (MPN/100ml)Mean']"
   ]
  },
  {
   "cell_type": "code",
   "execution_count": 19,
   "metadata": {},
   "outputs": [
    {
     "data": {
      "text/plain": [
       "0             DIU\n",
       "1             GOA\n",
       "2             GOA\n",
       "3             GOA\n",
       "4             GOA\n",
       "          ...    \n",
       "1986    TAMILNADU\n",
       "1987    TAMILNADU\n",
       "1988       TRIPUR\n",
       "1989       TRIPUR\n",
       "1990       TRIPUR\n",
       "Name: STATE, Length: 1991, dtype: object"
      ]
     },
     "execution_count": 19,
     "metadata": {},
     "output_type": "execute_result"
    }
   ],
   "source": [
    "dataset['STATE'] = (dataset['STATE'].astype('str'))\n",
    "dataset['STATE']"
   ]
  },
  {
   "cell_type": "code",
   "execution_count": 20,
   "metadata": {},
   "outputs": [
    {
     "data": {
      "text/plain": [
       "STATE                                object\n",
       "Temp                                float64\n",
       "D.O. (mg/l)                         float64\n",
       "PH                                  float64\n",
       "CONDUCTIVITY (µmhos/cm)             float64\n",
       "B.O.D. (mg/l)                       float64\n",
       "NITRATENAN N+ NITRITENANN (mg/l)    float64\n",
       "FECAL COLIFORM (MPN/100ml)          float64\n",
       "TOTAL COLIFORM (MPN/100ml)Mean      float64\n",
       "year                                  int64\n",
       "dtype: object"
      ]
     },
     "execution_count": 20,
     "metadata": {},
     "output_type": "execute_result"
    }
   ],
   "source": [
    "dataset.dtypes"
   ]
  },
  {
   "cell_type": "code",
   "execution_count": 21,
   "metadata": {},
   "outputs": [
    {
     "data": {
      "text/plain": [
       "STATE                               False\n",
       "Temp                                 True\n",
       "D.O. (mg/l)                          True\n",
       "PH                                   True\n",
       "CONDUCTIVITY (µmhos/cm)              True\n",
       "B.O.D. (mg/l)                        True\n",
       "NITRATENAN N+ NITRITENANN (mg/l)     True\n",
       "FECAL COLIFORM (MPN/100ml)           True\n",
       "TOTAL COLIFORM (MPN/100ml)Mean       True\n",
       "year                                False\n",
       "dtype: bool"
      ]
     },
     "execution_count": 21,
     "metadata": {},
     "output_type": "execute_result"
    }
   ],
   "source": [
    "dataset.isnull().any()"
   ]
  },
  {
   "cell_type": "markdown",
   "metadata": {},
   "source": [
    "# Taking care of missing values"
   ]
  },
  {
   "cell_type": "code",
   "execution_count": 22,
   "metadata": {},
   "outputs": [],
   "source": [
    "dataset['Temp']=dataset['Temp'].replace(np.NaN,dataset['Temp'].mean)"
   ]
  },
  {
   "cell_type": "code",
   "execution_count": 23,
   "metadata": {},
   "outputs": [
    {
     "data": {
      "text/plain": [
       "False"
      ]
     },
     "execution_count": 23,
     "metadata": {},
     "output_type": "execute_result"
    }
   ],
   "source": [
    "dataset['Temp'].isnull().any()"
   ]
  },
  {
   "cell_type": "code",
   "execution_count": null,
   "metadata": {},
   "outputs": [],
   "source": []
  }
 ],
 "metadata": {
  "kernelspec": {
   "display_name": "Python 3",
   "language": "python",
   "name": "python3"
  },
  "language_info": {
   "codemirror_mode": {
    "name": "ipython",
    "version": 3
   },
   "file_extension": ".py",
   "mimetype": "text/x-python",
   "name": "python",
   "nbconvert_exporter": "python",
   "pygments_lexer": "ipython3",
   "version": "3.7.6"
  }
 },
 "nbformat": 4,
 "nbformat_minor": 2
}
